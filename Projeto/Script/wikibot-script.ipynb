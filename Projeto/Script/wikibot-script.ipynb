{
 "cells": [
  {
   "cell_type": "code",
   "execution_count": null,
   "metadata": {},
   "outputs": [],
   "source": [
    "#!pip install -U scikit-learn\n",
    "#!pip install numpy\n",
    "#!pip install --user -U nltk\n",
    "#nltk.download('stopwords')\n",
    "#nltk.download('punkt')\n",
    "#!pip install unidecode\n",
    "#!pip install matplotlib"
   ]
  },
  {
   "cell_type": "code",
   "execution_count": 1,
   "metadata": {},
   "outputs": [],
   "source": [
    "import pandas as pd\n",
    "import nltk\n",
    "import time\n",
    "import datetime\n",
    "from nltk.tokenize import word_tokenize\n",
    "from nltk.corpus import stopwords\n",
    "from string import punctuation\n",
    "from nltk.stem import RSLPStemmer\n",
    "from unidecode import unidecode\n",
    "from sklearn.feature_extraction.text import TfidfVectorizer"
   ]
  },
  {
   "cell_type": "code",
   "execution_count": 2,
   "metadata": {},
   "outputs": [],
   "source": [
    "#Carrega dados refined\n",
    "df = pd.read_csv(\"../s3_data/refined/refined.csv\", names=[\"wiki_id\", \"title\", \"timestamp\", \"user\",\"bot\"])"
   ]
  },
  {
   "cell_type": "markdown",
   "metadata": {},
   "source": [
    "## Parte 1\n",
    "## Pré Processamento"
   ]
  },
  {
   "cell_type": "code",
   "execution_count": 3,
   "metadata": {
    "scrolled": true
   },
   "outputs": [],
   "source": [
    "#Remove linhas com dados nulos, transformando em minusculo e removendo aspas simples\n",
    "df[\"title\"].dropna(inplace=True)\n",
    "df[\"bot\"].dropna(inplace=True)\n",
    "df[\"user\"] = df[\"user\"].replace({'\\'': ''}, regex=True)\n",
    "lw_text = df[\"title\"].str.lower()\n",
    "lw_text = lw_text.replace({'\\'': ''}, regex=True)\n",
    "df[\"user\"] = df[\"user\"].str.strip().replace({'^[0-9]*$': 'unknown'}, regex=True)"
   ]
  },
  {
   "cell_type": "code",
   "execution_count": 4,
   "metadata": {},
   "outputs": [],
   "source": [
    "#Normalizando timestamp\n",
    "s = \"01/01/2020\"\n",
    "default_timestamp = int(datetime.datetime.strptime('01/01/2020', '%d/%m/%Y').strftime(\"%s\"))\n",
    "df[\"timestamp\"] = df[\"timestamp\"].str.strip().replace({'^((?![0-9]).)*$': default_timestamp}, regex=True)"
   ]
  },
  {
   "cell_type": "code",
   "execution_count": 5,
   "metadata": {},
   "outputs": [],
   "source": [
    "#Substitui valores diferentes de booleano pela item de maior frequencia\n",
    "max_freq = df.bot.mode()[0]\n",
    "df[\"bot\"] = df[\"bot\"].str.strip().replace({'^((?!(False|True)).)*$': max_freq.strip()}, regex=True)\n",
    "#df[\"bot\"] = df[\"bot\"].astype(bool)"
   ]
  },
  {
   "cell_type": "code",
   "execution_count": 6,
   "metadata": {},
   "outputs": [],
   "source": [
    "#Cria os tokens dos titulos\n",
    "tokens =  lw_text.apply(word_tokenize)"
   ]
  },
  {
   "cell_type": "code",
   "execution_count": 7,
   "metadata": {},
   "outputs": [],
   "source": [
    "#Normalizando com unicode\n",
    "tokens_uni = tokens.apply(lambda x: [unidecode(z) for z in x ])"
   ]
  },
  {
   "cell_type": "code",
   "execution_count": 8,
   "metadata": {},
   "outputs": [],
   "source": [
    "#Remove stopwords\n",
    "stopwords = nltk.corpus.stopwords.words('portuguese')\n",
    "stopwords.extend(['categoria','artigos', 'predefinicao','ficheiro','sobre','predefinicoes','redirecionamentos','esbocos','ligados','elemento','inexistentes','ficheiros','usuario','wikidata','paginas','wikipedia','discussao','lista'])\n",
    "stopwords = set(stopwords + list(punctuation))\n",
    "title_cleaned = tokens_uni.apply(lambda line:  [w for w in line if not w in stopwords])"
   ]
  },
  {
   "cell_type": "code",
   "execution_count": 9,
   "metadata": {},
   "outputs": [
    {
     "data": {
      "text/html": [
       "<div>\n",
       "<style scoped>\n",
       "    .dataframe tbody tr th:only-of-type {\n",
       "        vertical-align: middle;\n",
       "    }\n",
       "\n",
       "    .dataframe tbody tr th {\n",
       "        vertical-align: top;\n",
       "    }\n",
       "\n",
       "    .dataframe thead th {\n",
       "        text-align: right;\n",
       "    }\n",
       "</style>\n",
       "<table border=\"1\" class=\"dataframe\">\n",
       "  <thead>\n",
       "    <tr style=\"text-align: right;\">\n",
       "      <th></th>\n",
       "      <th>wiki_id</th>\n",
       "      <th>title</th>\n",
       "      <th>timestamp</th>\n",
       "      <th>user</th>\n",
       "      <th>bot</th>\n",
       "      <th>title_cleaned</th>\n",
       "    </tr>\n",
       "  </thead>\n",
       "  <tbody>\n",
       "    <tr>\n",
       "      <td>0</td>\n",
       "      <td>96937943</td>\n",
       "      <td>'Predefinição:Pandemia de COVID-19 na França'</td>\n",
       "      <td>1587234893</td>\n",
       "      <td>Francisco Leandro</td>\n",
       "      <td>False</td>\n",
       "      <td>pandemia covid-19 franca</td>\n",
       "    </tr>\n",
       "    <tr>\n",
       "      <td>1</td>\n",
       "      <td>96937944</td>\n",
       "      <td>'Categoria:!Predefinições sobre a pandemia de...</td>\n",
       "      <td>1587234893</td>\n",
       "      <td>Francisco Leandro</td>\n",
       "      <td>False</td>\n",
       "      <td>pandemia covid-19 franca</td>\n",
       "    </tr>\n",
       "    <tr>\n",
       "      <td>2</td>\n",
       "      <td>96937945</td>\n",
       "      <td>'Categoria:!Predefinições sobre a pandemia de...</td>\n",
       "      <td>1587234893</td>\n",
       "      <td>Francisco Leandro</td>\n",
       "      <td>False</td>\n",
       "      <td>pandemia covid-19</td>\n",
       "    </tr>\n",
       "    <tr>\n",
       "      <td>3</td>\n",
       "      <td>96937946</td>\n",
       "      <td>'Pandemia de COVID-19 na Espanha'</td>\n",
       "      <td>1587234902</td>\n",
       "      <td>Raimundo57br</td>\n",
       "      <td>False</td>\n",
       "      <td>pandemia covid-19 espanha</td>\n",
       "    </tr>\n",
       "    <tr>\n",
       "      <td>4</td>\n",
       "      <td>96937947</td>\n",
       "      <td>'Campo de Marte (Roma)'</td>\n",
       "      <td>1577847600</td>\n",
       "      <td>unknown</td>\n",
       "      <td>False</td>\n",
       "      <td>campo marte roma</td>\n",
       "    </tr>\n",
       "  </tbody>\n",
       "</table>\n",
       "</div>"
      ],
      "text/plain": [
       "    wiki_id                                              title   timestamp  \\\n",
       "0  96937943      'Predefinição:Pandemia de COVID-19 na França'  1587234893   \n",
       "1  96937944   'Categoria:!Predefinições sobre a pandemia de...  1587234893   \n",
       "2  96937945   'Categoria:!Predefinições sobre a pandemia de...  1587234893   \n",
       "3  96937946                  'Pandemia de COVID-19 na Espanha'  1587234902   \n",
       "4  96937947                            'Campo de Marte (Roma)'  1577847600   \n",
       "\n",
       "                user    bot              title_cleaned  \n",
       "0  Francisco Leandro  False   pandemia covid-19 franca  \n",
       "1  Francisco Leandro  False   pandemia covid-19 franca  \n",
       "2  Francisco Leandro  False          pandemia covid-19  \n",
       "3       Raimundo57br  False  pandemia covid-19 espanha  \n",
       "4            unknown  False           campo marte roma  "
      ]
     },
     "execution_count": 9,
     "metadata": {},
     "output_type": "execute_result"
    }
   ],
   "source": [
    "#Cria coluna com os titulos tratados\n",
    "df[\"title_cleaned\"] = title_cleaned.apply(lambda line: \" \".join(line))\n",
    "df.head()"
   ]
  },
  {
   "cell_type": "code",
   "execution_count": 31,
   "metadata": {},
   "outputs": [
    {
     "data": {
      "text/plain": [
       "wiki_id          0\n",
       "title            0\n",
       "timestamp        0\n",
       "user             0\n",
       "bot              0\n",
       "title_cleaned    0\n",
       "title_stemmed    0\n",
       "dtype: int64"
      ]
     },
     "execution_count": 31,
     "metadata": {},
     "output_type": "execute_result"
    }
   ],
   "source": [
    "df.isna().sum()"
   ]
  },
  {
   "cell_type": "code",
   "execution_count": 10,
   "metadata": {},
   "outputs": [
    {
     "data": {
      "text/html": [
       "<div>\n",
       "<style scoped>\n",
       "    .dataframe tbody tr th:only-of-type {\n",
       "        vertical-align: middle;\n",
       "    }\n",
       "\n",
       "    .dataframe tbody tr th {\n",
       "        vertical-align: top;\n",
       "    }\n",
       "\n",
       "    .dataframe thead th {\n",
       "        text-align: right;\n",
       "    }\n",
       "</style>\n",
       "<table border=\"1\" class=\"dataframe\">\n",
       "  <thead>\n",
       "    <tr style=\"text-align: right;\">\n",
       "      <th></th>\n",
       "      <th>wiki_id</th>\n",
       "      <th>title</th>\n",
       "      <th>timestamp</th>\n",
       "      <th>user</th>\n",
       "      <th>bot</th>\n",
       "      <th>title_cleaned</th>\n",
       "      <th>title_stemmed</th>\n",
       "    </tr>\n",
       "  </thead>\n",
       "  <tbody>\n",
       "    <tr>\n",
       "      <td>0</td>\n",
       "      <td>96937943</td>\n",
       "      <td>'Predefinição:Pandemia de COVID-19 na França'</td>\n",
       "      <td>1587234893</td>\n",
       "      <td>Francisco Leandro</td>\n",
       "      <td>False</td>\n",
       "      <td>pandemia covid-19 franca</td>\n",
       "      <td>pandem covid-19 franc</td>\n",
       "    </tr>\n",
       "    <tr>\n",
       "      <td>1</td>\n",
       "      <td>96937944</td>\n",
       "      <td>'Categoria:!Predefinições sobre a pandemia de...</td>\n",
       "      <td>1587234893</td>\n",
       "      <td>Francisco Leandro</td>\n",
       "      <td>False</td>\n",
       "      <td>pandemia covid-19 franca</td>\n",
       "      <td>pandem covid-19 franc</td>\n",
       "    </tr>\n",
       "    <tr>\n",
       "      <td>2</td>\n",
       "      <td>96937945</td>\n",
       "      <td>'Categoria:!Predefinições sobre a pandemia de...</td>\n",
       "      <td>1587234893</td>\n",
       "      <td>Francisco Leandro</td>\n",
       "      <td>False</td>\n",
       "      <td>pandemia covid-19</td>\n",
       "      <td>pandem covid-19</td>\n",
       "    </tr>\n",
       "    <tr>\n",
       "      <td>3</td>\n",
       "      <td>96937946</td>\n",
       "      <td>'Pandemia de COVID-19 na Espanha'</td>\n",
       "      <td>1587234902</td>\n",
       "      <td>Raimundo57br</td>\n",
       "      <td>False</td>\n",
       "      <td>pandemia covid-19 espanha</td>\n",
       "      <td>pandem covid-19 espanh</td>\n",
       "    </tr>\n",
       "    <tr>\n",
       "      <td>4</td>\n",
       "      <td>96937947</td>\n",
       "      <td>'Campo de Marte (Roma)'</td>\n",
       "      <td>1577847600</td>\n",
       "      <td>unknown</td>\n",
       "      <td>False</td>\n",
       "      <td>campo marte roma</td>\n",
       "      <td>camp mart rom</td>\n",
       "    </tr>\n",
       "  </tbody>\n",
       "</table>\n",
       "</div>"
      ],
      "text/plain": [
       "    wiki_id                                              title   timestamp  \\\n",
       "0  96937943      'Predefinição:Pandemia de COVID-19 na França'  1587234893   \n",
       "1  96937944   'Categoria:!Predefinições sobre a pandemia de...  1587234893   \n",
       "2  96937945   'Categoria:!Predefinições sobre a pandemia de...  1587234893   \n",
       "3  96937946                  'Pandemia de COVID-19 na Espanha'  1587234902   \n",
       "4  96937947                            'Campo de Marte (Roma)'  1577847600   \n",
       "\n",
       "                user    bot              title_cleaned           title_stemmed  \n",
       "0  Francisco Leandro  False   pandemia covid-19 franca   pandem covid-19 franc  \n",
       "1  Francisco Leandro  False   pandemia covid-19 franca   pandem covid-19 franc  \n",
       "2  Francisco Leandro  False          pandemia covid-19         pandem covid-19  \n",
       "3       Raimundo57br  False  pandemia covid-19 espanha  pandem covid-19 espanh  \n",
       "4            unknown  False           campo marte roma           camp mart rom  "
      ]
     },
     "execution_count": 10,
     "metadata": {},
     "output_type": "execute_result"
    }
   ],
   "source": [
    "#Cria coluna com os titulos com steamming\n",
    "def Stemming(sentence):\n",
    "    stemmer = RSLPStemmer()\n",
    "    phrase = []\n",
    "    for word in sentence:\n",
    "        phrase.append(stemmer.stem(word.lower()))\n",
    "    return phrase\n",
    "\n",
    "stemmed_list = title_cleaned.apply(lambda line: Stemming(line))\n",
    "df[\"title_stemmed\"] = stemmed_list.apply(lambda line: \" \".join(line))\n",
    "df.head()"
   ]
  },
  {
   "cell_type": "code",
   "execution_count": 11,
   "metadata": {},
   "outputs": [
    {
     "data": {
      "text/html": [
       "<div>\n",
       "<style scoped>\n",
       "    .dataframe tbody tr th:only-of-type {\n",
       "        vertical-align: middle;\n",
       "    }\n",
       "\n",
       "    .dataframe tbody tr th {\n",
       "        vertical-align: top;\n",
       "    }\n",
       "\n",
       "    .dataframe thead th {\n",
       "        text-align: right;\n",
       "    }\n",
       "</style>\n",
       "<table border=\"1\" class=\"dataframe\">\n",
       "  <thead>\n",
       "    <tr style=\"text-align: right;\">\n",
       "      <th></th>\n",
       "      <th>title</th>\n",
       "      <th>title_cleaned</th>\n",
       "      <th>title_stemmed</th>\n",
       "    </tr>\n",
       "  </thead>\n",
       "  <tbody>\n",
       "    <tr>\n",
       "      <td>17</td>\n",
       "      <td>'Ryazan'</td>\n",
       "      <td>ryazan</td>\n",
       "      <td>ryazan</td>\n",
       "    </tr>\n",
       "    <tr>\n",
       "      <td>29</td>\n",
       "      <td>'Usuário(a) Discussão:191.53.150.73'</td>\n",
       "      <td>discussao:191.53.150.73</td>\n",
       "      <td>discussao:191.53.150.73</td>\n",
       "    </tr>\n",
       "    <tr>\n",
       "      <td>161</td>\n",
       "      <td>'Exército'</td>\n",
       "      <td>exercito</td>\n",
       "      <td>exercit</td>\n",
       "    </tr>\n",
       "    <tr>\n",
       "      <td>182</td>\n",
       "      <td>'Resânia'</td>\n",
       "      <td>resania</td>\n",
       "      <td>resan</td>\n",
       "    </tr>\n",
       "    <tr>\n",
       "      <td>241</td>\n",
       "      <td>'Categoria:!Redirecionamentos ligados a um el...</td>\n",
       "      <td></td>\n",
       "      <td></td>\n",
       "    </tr>\n",
       "  </tbody>\n",
       "</table>\n",
       "</div>"
      ],
      "text/plain": [
       "                                                 title  \\\n",
       "17                                            'Ryazan'   \n",
       "29                'Usuário(a) Discussão:191.53.150.73'   \n",
       "161                                         'Exército'   \n",
       "182                                          'Resânia'   \n",
       "241   'Categoria:!Redirecionamentos ligados a um el...   \n",
       "\n",
       "               title_cleaned            title_stemmed  \n",
       "17                    ryazan                   ryazan  \n",
       "29   discussao:191.53.150.73  discussao:191.53.150.73  \n",
       "161                 exercito                  exercit  \n",
       "182                  resania                    resan  \n",
       "241                                                    "
      ]
     },
     "execution_count": 11,
     "metadata": {},
     "output_type": "execute_result"
    }
   ],
   "source": [
    "# Separa dataframes entre bots true e false\n",
    "title_bot_true = df[(df.bot == 'True')][[\"title\",\"title_cleaned\",\"title_stemmed\"]]\n",
    "title_bot_true.head()"
   ]
  },
  {
   "cell_type": "code",
   "execution_count": 12,
   "metadata": {},
   "outputs": [
    {
     "data": {
      "text/html": [
       "<div>\n",
       "<style scoped>\n",
       "    .dataframe tbody tr th:only-of-type {\n",
       "        vertical-align: middle;\n",
       "    }\n",
       "\n",
       "    .dataframe tbody tr th {\n",
       "        vertical-align: top;\n",
       "    }\n",
       "\n",
       "    .dataframe thead th {\n",
       "        text-align: right;\n",
       "    }\n",
       "</style>\n",
       "<table border=\"1\" class=\"dataframe\">\n",
       "  <thead>\n",
       "    <tr style=\"text-align: right;\">\n",
       "      <th></th>\n",
       "      <th>title</th>\n",
       "      <th>title_cleaned</th>\n",
       "      <th>title_stemmed</th>\n",
       "    </tr>\n",
       "  </thead>\n",
       "  <tbody>\n",
       "    <tr>\n",
       "      <td>0</td>\n",
       "      <td>'Predefinição:Pandemia de COVID-19 na França'</td>\n",
       "      <td>pandemia covid-19 franca</td>\n",
       "      <td>pandem covid-19 franc</td>\n",
       "    </tr>\n",
       "    <tr>\n",
       "      <td>1</td>\n",
       "      <td>'Categoria:!Predefinições sobre a pandemia de...</td>\n",
       "      <td>pandemia covid-19 franca</td>\n",
       "      <td>pandem covid-19 franc</td>\n",
       "    </tr>\n",
       "    <tr>\n",
       "      <td>2</td>\n",
       "      <td>'Categoria:!Predefinições sobre a pandemia de...</td>\n",
       "      <td>pandemia covid-19</td>\n",
       "      <td>pandem covid-19</td>\n",
       "    </tr>\n",
       "    <tr>\n",
       "      <td>3</td>\n",
       "      <td>'Pandemia de COVID-19 na Espanha'</td>\n",
       "      <td>pandemia covid-19 espanha</td>\n",
       "      <td>pandem covid-19 espanh</td>\n",
       "    </tr>\n",
       "    <tr>\n",
       "      <td>4</td>\n",
       "      <td>'Campo de Marte (Roma)'</td>\n",
       "      <td>campo marte roma</td>\n",
       "      <td>camp mart rom</td>\n",
       "    </tr>\n",
       "  </tbody>\n",
       "</table>\n",
       "</div>"
      ],
      "text/plain": [
       "                                               title  \\\n",
       "0      'Predefinição:Pandemia de COVID-19 na França'   \n",
       "1   'Categoria:!Predefinições sobre a pandemia de...   \n",
       "2   'Categoria:!Predefinições sobre a pandemia de...   \n",
       "3                  'Pandemia de COVID-19 na Espanha'   \n",
       "4                            'Campo de Marte (Roma)'   \n",
       "\n",
       "               title_cleaned           title_stemmed  \n",
       "0   pandemia covid-19 franca   pandem covid-19 franc  \n",
       "1   pandemia covid-19 franca   pandem covid-19 franc  \n",
       "2          pandemia covid-19         pandem covid-19  \n",
       "3  pandemia covid-19 espanha  pandem covid-19 espanh  \n",
       "4           campo marte roma           camp mart rom  "
      ]
     },
     "execution_count": 12,
     "metadata": {},
     "output_type": "execute_result"
    }
   ],
   "source": [
    "title_bot_false = df[(df.bot == 'False')][[\"title\",\"title_cleaned\",\"title_stemmed\"]]\n",
    "title_bot_false.head()"
   ]
  },
  {
   "cell_type": "code",
   "execution_count": 29,
   "metadata": {},
   "outputs": [
    {
     "name": "stdout",
     "output_type": "stream",
     "text": [
      "  (0, 601)\t1.0\n",
      "  (1, 315)\t0.2768663476571901\n",
      "  (1, 134)\t0.4948634424337313\n",
      "  (1, 109)\t0.4948634424337313\n",
      "  (1, 40)\t0.46559927632044384\n",
      "  (1, 20)\t0.46559927632044384\n",
      "  (2, 364)\t1.0\n",
      "  (3, 589)\t1.0\n",
      "  (5, 674)\t0.47983491159260516\n",
      "  (5, 574)\t0.4684009376408448\n",
      "  (5, 538)\t0.4204823754474598\n",
      "  (5, 278)\t0.21460210931566748\n",
      "  (5, 257)\t0.39433327479266306\n",
      "  (5, 237)\t0.35522214464015245\n",
      "  (5, 39)\t0.21405144754933716\n",
      "  (6, 315)\t0.26939786774438834\n",
      "  (6, 50)\t0.48151448287013576\n",
      "  (6, 26)\t0.48151448287013576\n",
      "  (6, 22)\t0.48151448287013576\n",
      "  (6, 4)\t0.48151448287013576\n",
      "  (10, 554)\t0.5114305784179488\n",
      "  (10, 293)\t0.5142906992661592\n",
      "  (10, 278)\t0.48742257039420367\n",
      "  (10, 39)\t0.48617186053669836\n",
      "  (11, 538)\t0.5667933589162981\n",
      "  :\t:\n",
      "  (692, 330)\t0.41787351337496026\n",
      "  (692, 315)\t0.23379199898423755\n",
      "  (692, 146)\t0.41787351337496026\n",
      "  (692, 141)\t0.41787351337496026\n",
      "  (692, 122)\t0.41787351337496026\n",
      "  (692, 81)\t0.30379546397716845\n",
      "  (692, 33)\t0.39316221150629277\n",
      "  (693, 315)\t0.2768663476571901\n",
      "  (693, 158)\t0.46559927632044384\n",
      "  (693, 76)\t0.4948634424337313\n",
      "  (693, 31)\t0.46559927632044384\n",
      "  (693, 29)\t0.4948634424337313\n",
      "  (694, 554)\t0.5114305784179488\n",
      "  (694, 293)\t0.5142906992661592\n",
      "  (694, 278)\t0.48742257039420367\n",
      "  (694, 39)\t0.48617186053669836\n",
      "  (695, 597)\t0.7071067811865475\n",
      "  (695, 180)\t0.7071067811865475\n",
      "  (696, 523)\t0.5652644970031884\n",
      "  (696, 387)\t0.6007928901505616\n",
      "  (696, 274)\t0.5652644970031884\n",
      "  (697, 554)\t0.5114305784179488\n",
      "  (697, 293)\t0.5142906992661592\n",
      "  (697, 278)\t0.48742257039420367\n",
      "  (697, 39)\t0.48617186053669836\n"
     ]
    }
   ],
   "source": [
    "# Vec. transform com bots = true\n",
    "str_list = title_bot_true[\"title_stemmed\"].values\n",
    "vec = TfidfVectorizer()\n",
    "vec.fit(str_list)\n",
    "features_bot_true = vec.transform(str_list)\n",
    "print(features_bot_true)"
   ]
  },
  {
   "cell_type": "code",
   "execution_count": 30,
   "metadata": {},
   "outputs": [
    {
     "name": "stdout",
     "output_type": "stream",
     "text": [
      "  (0, 7366)\t0.49508651772608114\n",
      "  (0, 4641)\t0.5571268659648859\n",
      "  (0, 3229)\t0.4743590954229548\n",
      "  (0, 212)\t0.4684895343287008\n",
      "  (1, 7366)\t0.49508651772608114\n",
      "  (1, 4641)\t0.5571268659648859\n",
      "  (1, 3229)\t0.4743590954229548\n",
      "  (1, 212)\t0.4684895343287008\n",
      "  (2, 7366)\t0.5961827871243295\n",
      "  (2, 3229)\t0.5712228418296409\n",
      "  (2, 212)\t0.5641547210728058\n",
      "  (3, 7366)\t0.4717430666493176\n",
      "  (3, 4150)\t0.6114636307661235\n",
      "  (3, 3229)\t0.45199294740567014\n",
      "  (3, 212)\t0.4464001375606222\n",
      "  (4, 8185)\t0.6412297273209235\n",
      "  (4, 6450)\t0.5778154394524782\n",
      "  (4, 2589)\t0.5049294552016881\n",
      "  (5, 6322)\t0.7071067811865475\n",
      "  (5, 2063)\t0.7071067811865475\n",
      "  (6, 7366)\t0.5249421394328267\n",
      "  (6, 3229)\t0.5029647738226591\n",
      "  (6, 2365)\t0.4740361921974699\n",
      "  (6, 212)\t0.4967412556131527\n",
      "  (7, 9751)\t0.6407762126376942\n",
      "  :\t:\n",
      "  (23312, 4711)\t0.34725811366800097\n",
      "  (23312, 4019)\t0.629292946157741\n",
      "  (23312, 2992)\t0.33269334574441795\n",
      "  (23313, 4711)\t0.33477437107351726\n",
      "  (23313, 4691)\t0.5470930226720634\n",
      "  (23313, 2992)\t0.3207331987307138\n",
      "  (23313, 240)\t0.6969544893663004\n",
      "  (23314, 8339)\t0.5236871578875113\n",
      "  (23314, 7450)\t0.5014297190568936\n",
      "  (23314, 4711)\t0.4973081724215043\n",
      "  (23314, 2992)\t0.4764499754990119\n",
      "  (23315, 4982)\t0.6963117782728703\n",
      "  (23315, 4019)\t0.7177394425823853\n",
      "  (23316, 7987)\t0.6771498661828035\n",
      "  (23316, 3570)\t0.4366815467695908\n",
      "  (23316, 1268)\t0.4251954816273277\n",
      "  (23316, 358)\t0.4122936912484033\n",
      "  (23317, 8964)\t0.4785853985116178\n",
      "  (23317, 7987)\t0.7360008027846314\n",
      "  (23317, 5372)\t0.4788098105008441\n",
      "  (23318, 8339)\t0.4137969339085688\n",
      "  (23318, 7450)\t0.39620998374939487\n",
      "  (23318, 5998)\t0.4771835909894282\n",
      "  (23318, 4181)\t0.4764349796667609\n",
      "  (23318, 3551)\t0.4659348419098309\n"
     ]
    }
   ],
   "source": [
    "# Vec. transform com bots = false\n",
    "str_list = title_bot_false[\"title_stemmed\"].values\n",
    "vec.fit(str_list)\n",
    "features_bot_false = vec.transform(str_list)\n",
    "print(features_bot_false)"
   ]
  },
  {
   "cell_type": "markdown",
   "metadata": {},
   "source": [
    "## Parte 2\n",
    "## Artigos alterados por bot x não bots"
   ]
  },
  {
   "cell_type": "code",
   "execution_count": 25,
   "metadata": {},
   "outputs": [
    {
     "data": {
      "image/png": "[encoded data removed]",
      "text/plain": [
       "<Figure size 432x288 with 1 Axes>"
      ]
     },
     "metadata": {},
     "output_type": "display_data"
    }
   ],
   "source": [
    "import matplotlib.pyplot as plt\n",
    "\n",
    "labels = 'Bot','Não Bots'\n",
    "data = [features_bot_true.size, features_bot_false.size]\n",
    "\n",
    "fig1, ax1 = plt.subplots()\n",
    "\n",
    "ax1.pie(data, labels=labels, autopct='%1.1f%%', shadow=True, startangle=90)\n",
    "\n",
    "ax1.axis('equal')\n",
    "ax1.set_title(\"Bot vs Não Bot\")\n",
    "plt.show()"
   ]
  },
  {
   "cell_type": "markdown",
   "metadata": {},
   "source": [
    "## Palavras mais populares"
   ]
  },
  {
   "cell_type": "code",
   "execution_count": 15,
   "metadata": {
    "scrolled": false
   },
   "outputs": [
    {
     "name": "stdout",
     "output_type": "stream",
     "text": [
      "            Frequency\n",
      "Word                 \n",
      "covid-19          141\n",
      "pandemia          136\n",
      "dados             134\n",
      "futebol            29\n",
      "campeonato         21\n",
      "alagoano           21\n",
      "pagina             19\n",
      "casos              18\n",
      "russia             17\n",
      "resultados         17\n"
     ]
    },
    {
     "data": {
      "text/plain": [
       "<matplotlib.axes._subplots.AxesSubplot at 0x7fad19e222b0>"
      ]
     },
     "execution_count": 15,
     "metadata": {},
     "output_type": "execute_result"
    },
    {
     "data": {
      "image/png": "[encoded data removed]",
      "text/plain": [
       "<Figure size 1152x720 with 1 Axes>"
      ]
     },
     "metadata": {
      "needs_background": "light"
     },
     "output_type": "display_data"
    }
   ],
   "source": [
    "#bot = true\n",
    "from collections import Counter\n",
    "top_N = 10\n",
    "words = title_bot_true[\"title_cleaned\"].str.cat(sep=' ').split()\n",
    "rslt = pd.DataFrame(Counter(words).most_common(top_N), columns=['Word', 'Frequency']).set_index('Word')\n",
    "print(rslt)\n",
    "rslt.plot.bar(rot=0, figsize=(16,10), width=0.8)"
   ]
  },
  {
   "cell_type": "code",
   "execution_count": 16,
   "metadata": {},
   "outputs": [
    {
     "name": "stdout",
     "output_type": "stream",
     "text": [
      "            Frequency\n",
      "Word                 \n",
      "carecem           779\n",
      "capas             661\n",
      "albuns            643\n",
      "futebol           566\n",
      "2020              564\n",
      "sao               491\n",
      "abril             490\n",
      "eliminacao        486\n",
      "paulo             460\n",
      "desde             444\n"
     ]
    },
    {
     "data": {
      "text/plain": [
       "<matplotlib.axes._subplots.AxesSubplot at 0x7fad1a75dc88>"
      ]
     },
     "execution_count": 16,
     "metadata": {},
     "output_type": "execute_result"
    },
    {
     "data": {
      "image/png": "[encoded data removed]",
      "text/plain": [
       "<Figure size 1152x720 with 1 Axes>"
      ]
     },
     "metadata": {
      "needs_background": "light"
     },
     "output_type": "display_data"
    }
   ],
   "source": [
    "#bot = false\n",
    "from collections import Counter\n",
    "top_N = 10\n",
    "words = title_bot_false[\"title_cleaned\"].str.cat(sep=' ').split()\n",
    "rslt = pd.DataFrame(Counter(words).most_common(top_N), columns=['Word', 'Frequency']).set_index('Word')\n",
    "print(rslt)\n",
    "rslt.plot.bar(rot=0, figsize=(16,10), width=0.8)"
   ]
  },
  {
   "cell_type": "markdown",
   "metadata": {},
   "source": [
    "## K-Means bot = false"
   ]
  },
  {
   "cell_type": "code",
   "execution_count": 17,
   "metadata": {},
   "outputs": [
    {
     "ename": "KeyboardInterrupt",
     "evalue": "",
     "output_type": "error",
     "traceback": [
      "\u001b[0;31m---------------------------------------------------------------------------\u001b[0m",
      "\u001b[0;31mKeyboardInterrupt\u001b[0m                         Traceback (most recent call last)",
      "\u001b[0;32m<ipython-input-17-784afb17ea73>\u001b[0m in \u001b[0;36m<module>\u001b[0;34m\u001b[0m\n\u001b[1;32m      4\u001b[0m \u001b[0;32mfor\u001b[0m \u001b[0mk\u001b[0m \u001b[0;32min\u001b[0m \u001b[0mK\u001b[0m\u001b[0;34m:\u001b[0m\u001b[0;34m\u001b[0m\u001b[0;34m\u001b[0m\u001b[0m\n\u001b[1;32m      5\u001b[0m     \u001b[0mkm\u001b[0m \u001b[0;34m=\u001b[0m \u001b[0mKMeans\u001b[0m\u001b[0;34m(\u001b[0m\u001b[0mn_clusters\u001b[0m\u001b[0;34m=\u001b[0m\u001b[0mk\u001b[0m\u001b[0;34m)\u001b[0m\u001b[0;34m\u001b[0m\u001b[0;34m\u001b[0m\u001b[0m\n\u001b[0;32m----> 6\u001b[0;31m     \u001b[0mkm\u001b[0m \u001b[0;34m=\u001b[0m \u001b[0mkm\u001b[0m\u001b[0;34m.\u001b[0m\u001b[0mfit\u001b[0m\u001b[0;34m(\u001b[0m\u001b[0mfeatures_bot_false\u001b[0m\u001b[0;34m)\u001b[0m\u001b[0;34m\u001b[0m\u001b[0;34m\u001b[0m\u001b[0m\n\u001b[0m\u001b[1;32m      7\u001b[0m     \u001b[0mSum_of_squared_distances\u001b[0m\u001b[0;34m.\u001b[0m\u001b[0mappend\u001b[0m\u001b[0;34m(\u001b[0m\u001b[0mkm\u001b[0m\u001b[0;34m.\u001b[0m\u001b[0minertia_\u001b[0m\u001b[0;34m)\u001b[0m\u001b[0;34m\u001b[0m\u001b[0;34m\u001b[0m\u001b[0m\n\u001b[1;32m      8\u001b[0m \u001b[0;34m\u001b[0m\u001b[0m\n",
      "\u001b[0;32m~/.local/lib/python3.6/site-packages/sklearn/cluster/_kmeans.py\u001b[0m in \u001b[0;36mfit\u001b[0;34m(self, X, y, sample_weight)\u001b[0m\n\u001b[1;32m    935\u001b[0m                     \u001b[0mmax_iter\u001b[0m\u001b[0;34m=\u001b[0m\u001b[0mself\u001b[0m\u001b[0;34m.\u001b[0m\u001b[0mmax_iter\u001b[0m\u001b[0;34m,\u001b[0m \u001b[0minit\u001b[0m\u001b[0;34m=\u001b[0m\u001b[0minit\u001b[0m\u001b[0;34m,\u001b[0m \u001b[0mverbose\u001b[0m\u001b[0;34m=\u001b[0m\u001b[0mself\u001b[0m\u001b[0;34m.\u001b[0m\u001b[0mverbose\u001b[0m\u001b[0;34m,\u001b[0m\u001b[0;34m\u001b[0m\u001b[0;34m\u001b[0m\u001b[0m\n\u001b[1;32m    936\u001b[0m                     \u001b[0mprecompute_distances\u001b[0m\u001b[0;34m=\u001b[0m\u001b[0mprecompute_distances\u001b[0m\u001b[0;34m,\u001b[0m \u001b[0mtol\u001b[0m\u001b[0;34m=\u001b[0m\u001b[0mtol\u001b[0m\u001b[0;34m,\u001b[0m\u001b[0;34m\u001b[0m\u001b[0;34m\u001b[0m\u001b[0m\n\u001b[0;32m--> 937\u001b[0;31m                     x_squared_norms=x_squared_norms, random_state=seed)\n\u001b[0m\u001b[1;32m    938\u001b[0m                 \u001b[0;31m# determine if these results are the best so far\u001b[0m\u001b[0;34m\u001b[0m\u001b[0;34m\u001b[0m\u001b[0;34m\u001b[0m\u001b[0m\n\u001b[1;32m    939\u001b[0m                 \u001b[0;32mif\u001b[0m \u001b[0mbest_inertia\u001b[0m \u001b[0;32mis\u001b[0m \u001b[0;32mNone\u001b[0m \u001b[0;32mor\u001b[0m \u001b[0minertia\u001b[0m \u001b[0;34m<\u001b[0m \u001b[0mbest_inertia\u001b[0m\u001b[0;34m:\u001b[0m\u001b[0;34m\u001b[0m\u001b[0;34m\u001b[0m\u001b[0m\n",
      "\u001b[0;32m~/.local/lib/python3.6/site-packages/sklearn/cluster/_kmeans.py\u001b[0m in \u001b[0;36m_kmeans_single_lloyd\u001b[0;34m(X, sample_weight, n_clusters, max_iter, init, verbose, x_squared_norms, random_state, tol, precompute_distances)\u001b[0m\n\u001b[1;32m    427\u001b[0m         \u001b[0;32mif\u001b[0m \u001b[0msp\u001b[0m\u001b[0;34m.\u001b[0m\u001b[0missparse\u001b[0m\u001b[0;34m(\u001b[0m\u001b[0mX\u001b[0m\u001b[0;34m)\u001b[0m\u001b[0;34m:\u001b[0m\u001b[0;34m\u001b[0m\u001b[0;34m\u001b[0m\u001b[0m\n\u001b[1;32m    428\u001b[0m             centers = _k_means._centers_sparse(X, sample_weight, labels,\n\u001b[0;32m--> 429\u001b[0;31m                                                n_clusters, distances)\n\u001b[0m\u001b[1;32m    430\u001b[0m         \u001b[0;32melse\u001b[0m\u001b[0;34m:\u001b[0m\u001b[0;34m\u001b[0m\u001b[0;34m\u001b[0m\u001b[0m\n\u001b[1;32m    431\u001b[0m             centers = _k_means._centers_dense(X, sample_weight, labels,\n",
      "\u001b[0;32msklearn/cluster/_k_means_fast.pyx\u001b[0m in \u001b[0;36msklearn.cluster._k_means_fast._centers_sparse\u001b[0;34m()\u001b[0m\n",
      "\u001b[0;32m<__array_function__ internals>\u001b[0m in \u001b[0;36mwhere\u001b[0;34m(*args, **kwargs)\u001b[0m\n",
      "\u001b[0;31mKeyboardInterrupt\u001b[0m: "
     ]
    }
   ],
   "source": [
    "from sklearn.cluster import KMeans\n",
    "Sum_of_squared_distances = []\n",
    "K = range(1,150)\n",
    "for k in K:\n",
    "    km = KMeans(n_clusters=k)\n",
    "    km = km.fit(features_bot_false)\n",
    "    Sum_of_squared_distances.append(km.inertia_)\n",
    "\n"
   ]
  },
  {
   "cell_type": "code",
   "execution_count": null,
   "metadata": {},
   "outputs": [],
   "source": [
    "#Best result cluster = 150\n",
    "import matplotlib.pyplot as plt\n",
    "plt.plot(K, Sum_of_squared_distances, 'bx-')\n",
    "plt.xlabel('k')\n",
    "plt.ylabel('Sum_of_squared_distances')\n",
    "plt.title('Elbow Method For Optimal k')\n",
    "plt.show()"
   ]
  },
  {
   "cell_type": "markdown",
   "metadata": {},
   "source": [
    "Uma forma de se julgar esses números, é analisar a técnica do cotovelo. Nela, procura-se o número de clusters que faz com que o ganho se torne marginal. Como nossa curva se aproxima de uma reta, não é possível visualmente escolher qualquer número de clusters (para o nossa caso, tratando de textos).\n",
    "\n",
    "Dessa forma, considerando que processamentos de texto lidam com milhares de dimensões em uma mesma análise, já era esperado que os resultados sofressem dessa maldição.\n",
    "\n",
    "Isso, porém, não significa que os clusters não sejam relevantes ou tenham qualquer prejuízo interpretativo. Na prática, a maldição da dimensionalidade implica apenas que é necessário input humano para decidir o melhor número de clusters."
   ]
  },
  {
   "cell_type": "code",
   "execution_count": null,
   "metadata": {},
   "outputs": [],
   "source": [
    "from sklearn.decomposition import PCA\n",
    "\n",
    "fig = plt.figure(figsize=plt.figaspect(0.5))\n",
    "\n",
    "ax = fig.add_subplot(1, 2, 1)\n",
    "\n",
    "#Visualização gráfica 2D     # Converte as features para 2D     \n",
    "pca = PCA(n_components=2, random_state= 0)\n",
    "reduced_features = pca.fit_transform(features_bot_false.toarray())\n",
    "\n",
    "# Converte os centros dos clusters para 2D     \n",
    "reduced_cluster_centers = pca.transform(km.cluster_centers_)\n",
    "\n",
    "#Plota gráfico 2D     \n",
    "ax.scatter(reduced_features[:,0], reduced_features[:,1], c=km.predict(features_bot_false))\n",
    "ax.scatter(reduced_cluster_centers[:, 0], reduced_cluster_centers[:,1], marker='o', s=150, edgecolor='k')\n",
    "\n",
    "#Plota números nos clusters     \n",
    "for i, c in enumerate(reduced_cluster_centers):\n",
    "    ax.scatter(c[0], c[1], marker='$%d$' % i, alpha=1, s=50, edgecolor='k')\n",
    "\n",
    "cluster=5\n",
    "#Adiciona informações no gráfico     \n",
    "plt.title(\"Análise de cluster k = %d\" % cluster)\n",
    "plt.xlabel('Dispersão em X')\n",
    "plt.ylabel('Dispersão em Y')\n",
    "\n",
    "\n",
    "\n",
    "#Visualização gráfica 3D \n",
    "\n",
    "ax = fig.add_subplot(1, 2, 2,projection=\"3d\")\n",
    "\n",
    "# ax = plt.axes(projection=\"3d\") \n",
    "# Adiciona informações no gráfico     \n",
    "plt.title(\"Análise de cluster k = %d\" % cluster)\n",
    "plt.xlabel('Dispersão em X')\n",
    "plt.ylabel('Dispersão em Y')\n",
    "\n",
    "#converte dados para 3D     \n",
    "pca = PCA(n_components=3, random_state=0)\n",
    "reduced_features = pca.fit_transform(features_bot_false.toarray())\n",
    "\n",
    "#Plota dados em 3D     \n",
    "ax.scatter3D(reduced_features[:,0], reduced_features[:,1], reduced_features[:,2], marker='o', s=150, edgecolor='k', c=km.predict(features_bot_false))\n",
    "\n",
    "# Converte os centros dos clusters para 3D     \n",
    "reduced_cluster_centers = pca.transform(km.cluster_centers_)\n",
    "\n",
    "#Salva arquivo de imagem 3D     \n",
    "plt.savefig(\"imagens/grafico_cluster_k=%d\" % cluster)\n",
    "plt.show()"
   ]
  },
  {
   "cell_type": "markdown",
   "metadata": {},
   "source": [
    "## K-means bot = True"
   ]
  },
  {
   "cell_type": "code",
   "execution_count": 26,
   "metadata": {},
   "outputs": [],
   "source": [
    "from sklearn.cluster import KMeans\n",
    "Sum_of_squared_distances = []\n",
    "K = range(1,30)\n",
    "for k in K:\n",
    "    km = KMeans(n_clusters=k)\n",
    "    km = km.fit(features_bot_true)\n",
    "    Sum_of_squared_distances.append(km.inertia_)"
   ]
  },
  {
   "cell_type": "code",
   "execution_count": 27,
   "metadata": {},
   "outputs": [
    {
     "data": {
      "image/png": "[encoded data removed]",
      "text/plain": [
       "<Figure size 432x288 with 1 Axes>"
      ]
     },
     "metadata": {
      "needs_background": "light"
     },
     "output_type": "display_data"
    }
   ],
   "source": [
    "import matplotlib.pyplot as plt\n",
    "plt.plot(K, Sum_of_squared_distances, 'bx-')\n",
    "plt.xlabel('k')\n",
    "plt.ylabel('Sum_of_squared_distances')\n",
    "plt.title('Elbow Method For Optimal k')\n",
    "plt.show()"
   ]
  },
  {
   "cell_type": "code",
   "execution_count": 28,
   "metadata": {},
   "outputs": [
    {
     "data": {
      "image/png": "[encoded data removed]",
      "text/plain": [
       "<Figure size 576x288 with 2 Axes>"
      ]
     },
     "metadata": {
      "needs_background": "light"
     },
     "output_type": "display_data"
    }
   ],
   "source": [
    "from sklearn.decomposition import PCA\n",
    "\n",
    "fig = plt.figure(figsize=plt.figaspect(0.5))\n",
    "\n",
    "ax = fig.add_subplot(1, 2, 1)\n",
    "\n",
    "#Visualização gráfica 2D     # Converte as features para 2D     \n",
    "pca = PCA(n_components=2, random_state= 0)\n",
    "reduced_features = pca.fit_transform(features_bot_true.toarray())\n",
    "\n",
    "# Converte os centros dos clusters para 2D     \n",
    "reduced_cluster_centers = pca.transform(km.cluster_centers_)\n",
    "\n",
    "#Plota gráfico 2D     \n",
    "ax.scatter(reduced_features[:,0], reduced_features[:,1], c=km.predict(features_bot_true))\n",
    "ax.scatter(reduced_cluster_centers[:, 0], reduced_cluster_centers[:,1], marker='o', s=150, edgecolor='k')\n",
    "\n",
    "#Plota números nos clusters     \n",
    "for i, c in enumerate(reduced_cluster_centers):\n",
    "    ax.scatter(c[0], c[1], marker='$%d$' % i, alpha=1, s=50, edgecolor='k')\n",
    "\n",
    "cluster=5\n",
    "#Adiciona informações no gráfico     \n",
    "plt.title(\"Análise de cluster k = %d\" % cluster)\n",
    "plt.xlabel('Dispersão em X')\n",
    "plt.ylabel('Dispersão em Y')\n",
    "\n",
    "\n",
    "\n",
    "#Visualização gráfica 3D \n",
    "\n",
    "ax = fig.add_subplot(1, 2, 2,projection=\"3d\")\n",
    "\n",
    "# ax = plt.axes(projection=\"3d\") \n",
    "# Adiciona informações no gráfico     \n",
    "plt.title(\"Análise de cluster k = %d\" % cluster)\n",
    "plt.xlabel('Dispersão em X')\n",
    "plt.ylabel('Dispersão em Y')\n",
    "\n",
    "#converte dados para 3D     \n",
    "pca = PCA(n_components=3, random_state=0)\n",
    "reduced_features = pca.fit_transform(features_bot_true.toarray())\n",
    "\n",
    "#Plota dados em 3D     \n",
    "ax.scatter3D(reduced_features[:,0], reduced_features[:,1], reduced_features[:,2], marker='o', s=150, edgecolor='k', c=km.predict(features_bot_true))\n",
    "\n",
    "# Converte os centros dos clusters para 3D     \n",
    "reduced_cluster_centers = pca.transform(km.cluster_centers_)\n",
    "\n",
    "#Salva arquivo de imagem 3D     \n",
    "plt.savefig(\"imagens/grafico_cluster_k=%d\" % cluster)\n",
    "plt.show()"
   ]
  },
  {
   "cell_type": "markdown",
   "metadata": {},
   "source": [
    "## DBScan"
   ]
  },
  {
   "cell_type": "code",
   "execution_count": 21,
   "metadata": {},
   "outputs": [],
   "source": [
    "import numpy as np \n",
    "import pandas as pd \n",
    "import matplotlib.pyplot as plt \n",
    "  \n",
    "from sklearn.cluster import DBSCAN \n",
    "from sklearn.preprocessing import StandardScaler \n",
    "from sklearn.preprocessing import normalize \n",
    "from sklearn.decomposition import PCA "
   ]
  },
  {
   "cell_type": "code",
   "execution_count": 22,
   "metadata": {},
   "outputs": [
    {
     "ename": "ValueError",
     "evalue": "setting an array element with a sequence.",
     "output_type": "error",
     "traceback": [
      "\u001b[0;31m---------------------------------------------------------------------------\u001b[0m",
      "\u001b[0;31mTypeError\u001b[0m                                 Traceback (most recent call last)",
      "\u001b[0;31mTypeError\u001b[0m: float() argument must be a string or a number, not 'csr_matrix'",
      "\nThe above exception was the direct cause of the following exception:\n",
      "\u001b[0;31mValueError\u001b[0m                                Traceback (most recent call last)",
      "\u001b[0;32m<ipython-input-22-021740bd05e9>\u001b[0m in \u001b[0;36m<module>\u001b[0;34m\u001b[0m\n\u001b[1;32m      2\u001b[0m \u001b[0;34m\u001b[0m\u001b[0m\n\u001b[1;32m      3\u001b[0m \u001b[0mpca\u001b[0m \u001b[0;34m=\u001b[0m \u001b[0mPCA\u001b[0m\u001b[0;34m(\u001b[0m\u001b[0mn_components\u001b[0m \u001b[0;34m=\u001b[0m \u001b[0;36m2\u001b[0m\u001b[0;34m)\u001b[0m\u001b[0;34m\u001b[0m\u001b[0;34m\u001b[0m\u001b[0m\n\u001b[0;32m----> 4\u001b[0;31m \u001b[0mX_principal\u001b[0m \u001b[0;34m=\u001b[0m \u001b[0mpca\u001b[0m\u001b[0;34m.\u001b[0m\u001b[0mfit_transform\u001b[0m\u001b[0;34m(\u001b[0m\u001b[0mX_normalized\u001b[0m\u001b[0;34m)\u001b[0m\u001b[0;34m\u001b[0m\u001b[0;34m\u001b[0m\u001b[0m\n\u001b[0m\u001b[1;32m      5\u001b[0m \u001b[0mX_principal\u001b[0m \u001b[0;34m=\u001b[0m \u001b[0mpd\u001b[0m\u001b[0;34m.\u001b[0m\u001b[0mDataFrame\u001b[0m\u001b[0;34m(\u001b[0m\u001b[0mX_principal\u001b[0m\u001b[0;34m)\u001b[0m\u001b[0;34m\u001b[0m\u001b[0;34m\u001b[0m\u001b[0m\n\u001b[1;32m      6\u001b[0m \u001b[0mX_principal\u001b[0m\u001b[0;34m.\u001b[0m\u001b[0mcolumns\u001b[0m \u001b[0;34m=\u001b[0m \u001b[0;34m[\u001b[0m\u001b[0;34m'P1'\u001b[0m\u001b[0;34m,\u001b[0m \u001b[0;34m'P2'\u001b[0m\u001b[0;34m]\u001b[0m\u001b[0;34m\u001b[0m\u001b[0;34m\u001b[0m\u001b[0m\n",
      "\u001b[0;32m~/.local/lib/python3.6/site-packages/sklearn/decomposition/_pca.py\u001b[0m in \u001b[0;36mfit_transform\u001b[0;34m(self, X, y)\u001b[0m\n\u001b[1;32m    367\u001b[0m         \u001b[0mC\u001b[0m\u001b[0;34m-\u001b[0m\u001b[0mordered\u001b[0m \u001b[0marray\u001b[0m\u001b[0;34m,\u001b[0m \u001b[0muse\u001b[0m \u001b[0;34m'np.ascontiguousarray'\u001b[0m\u001b[0;34m.\u001b[0m\u001b[0;34m\u001b[0m\u001b[0;34m\u001b[0m\u001b[0m\n\u001b[1;32m    368\u001b[0m         \"\"\"\n\u001b[0;32m--> 369\u001b[0;31m         \u001b[0mU\u001b[0m\u001b[0;34m,\u001b[0m \u001b[0mS\u001b[0m\u001b[0;34m,\u001b[0m \u001b[0mV\u001b[0m \u001b[0;34m=\u001b[0m \u001b[0mself\u001b[0m\u001b[0;34m.\u001b[0m\u001b[0m_fit\u001b[0m\u001b[0;34m(\u001b[0m\u001b[0mX\u001b[0m\u001b[0;34m)\u001b[0m\u001b[0;34m\u001b[0m\u001b[0;34m\u001b[0m\u001b[0m\n\u001b[0m\u001b[1;32m    370\u001b[0m         \u001b[0mU\u001b[0m \u001b[0;34m=\u001b[0m \u001b[0mU\u001b[0m\u001b[0;34m[\u001b[0m\u001b[0;34m:\u001b[0m\u001b[0;34m,\u001b[0m \u001b[0;34m:\u001b[0m\u001b[0mself\u001b[0m\u001b[0;34m.\u001b[0m\u001b[0mn_components_\u001b[0m\u001b[0;34m]\u001b[0m\u001b[0;34m\u001b[0m\u001b[0;34m\u001b[0m\u001b[0m\n\u001b[1;32m    371\u001b[0m \u001b[0;34m\u001b[0m\u001b[0m\n",
      "\u001b[0;32m~/.local/lib/python3.6/site-packages/sklearn/decomposition/_pca.py\u001b[0m in \u001b[0;36m_fit\u001b[0;34m(self, X)\u001b[0m\n\u001b[1;32m    389\u001b[0m \u001b[0;34m\u001b[0m\u001b[0m\n\u001b[1;32m    390\u001b[0m         X = check_array(X, dtype=[np.float64, np.float32], ensure_2d=True,\n\u001b[0;32m--> 391\u001b[0;31m                         copy=self.copy)\n\u001b[0m\u001b[1;32m    392\u001b[0m \u001b[0;34m\u001b[0m\u001b[0m\n\u001b[1;32m    393\u001b[0m         \u001b[0;31m# Handle n_components==None\u001b[0m\u001b[0;34m\u001b[0m\u001b[0;34m\u001b[0m\u001b[0;34m\u001b[0m\u001b[0m\n",
      "\u001b[0;32m~/.local/lib/python3.6/site-packages/sklearn/utils/validation.py\u001b[0m in \u001b[0;36mcheck_array\u001b[0;34m(array, accept_sparse, accept_large_sparse, dtype, order, copy, force_all_finite, ensure_2d, allow_nd, ensure_min_samples, ensure_min_features, warn_on_dtype, estimator)\u001b[0m\n\u001b[1;32m    529\u001b[0m                     \u001b[0marray\u001b[0m \u001b[0;34m=\u001b[0m \u001b[0marray\u001b[0m\u001b[0;34m.\u001b[0m\u001b[0mastype\u001b[0m\u001b[0;34m(\u001b[0m\u001b[0mdtype\u001b[0m\u001b[0;34m,\u001b[0m \u001b[0mcasting\u001b[0m\u001b[0;34m=\u001b[0m\u001b[0;34m\"unsafe\"\u001b[0m\u001b[0;34m,\u001b[0m \u001b[0mcopy\u001b[0m\u001b[0;34m=\u001b[0m\u001b[0;32mFalse\u001b[0m\u001b[0;34m)\u001b[0m\u001b[0;34m\u001b[0m\u001b[0;34m\u001b[0m\u001b[0m\n\u001b[1;32m    530\u001b[0m                 \u001b[0;32melse\u001b[0m\u001b[0;34m:\u001b[0m\u001b[0;34m\u001b[0m\u001b[0;34m\u001b[0m\u001b[0m\n\u001b[0;32m--> 531\u001b[0;31m                     \u001b[0marray\u001b[0m \u001b[0;34m=\u001b[0m \u001b[0mnp\u001b[0m\u001b[0;34m.\u001b[0m\u001b[0masarray\u001b[0m\u001b[0;34m(\u001b[0m\u001b[0marray\u001b[0m\u001b[0;34m,\u001b[0m \u001b[0morder\u001b[0m\u001b[0;34m=\u001b[0m\u001b[0morder\u001b[0m\u001b[0;34m,\u001b[0m \u001b[0mdtype\u001b[0m\u001b[0;34m=\u001b[0m\u001b[0mdtype\u001b[0m\u001b[0;34m)\u001b[0m\u001b[0;34m\u001b[0m\u001b[0;34m\u001b[0m\u001b[0m\n\u001b[0m\u001b[1;32m    532\u001b[0m             \u001b[0;32mexcept\u001b[0m \u001b[0mComplexWarning\u001b[0m\u001b[0;34m:\u001b[0m\u001b[0;34m\u001b[0m\u001b[0;34m\u001b[0m\u001b[0m\n\u001b[1;32m    533\u001b[0m                 raise ValueError(\"Complex data not supported\\n\"\n",
      "\u001b[0;32m~/.local/lib/python3.6/site-packages/numpy/core/_asarray.py\u001b[0m in \u001b[0;36masarray\u001b[0;34m(a, dtype, order)\u001b[0m\n\u001b[1;32m     83\u001b[0m \u001b[0;34m\u001b[0m\u001b[0m\n\u001b[1;32m     84\u001b[0m     \"\"\"\n\u001b[0;32m---> 85\u001b[0;31m     \u001b[0;32mreturn\u001b[0m \u001b[0marray\u001b[0m\u001b[0;34m(\u001b[0m\u001b[0ma\u001b[0m\u001b[0;34m,\u001b[0m \u001b[0mdtype\u001b[0m\u001b[0;34m,\u001b[0m \u001b[0mcopy\u001b[0m\u001b[0;34m=\u001b[0m\u001b[0;32mFalse\u001b[0m\u001b[0;34m,\u001b[0m \u001b[0morder\u001b[0m\u001b[0;34m=\u001b[0m\u001b[0morder\u001b[0m\u001b[0;34m)\u001b[0m\u001b[0;34m\u001b[0m\u001b[0;34m\u001b[0m\u001b[0m\n\u001b[0m\u001b[1;32m     86\u001b[0m \u001b[0;34m\u001b[0m\u001b[0m\n\u001b[1;32m     87\u001b[0m \u001b[0;34m\u001b[0m\u001b[0m\n",
      "\u001b[0;31mValueError\u001b[0m: setting an array element with a sequence."
     ]
    }
   ],
   "source": [
    "X_normalized = pd.DataFrame(features_bot_true)\n",
    "\n",
    "pca = PCA(n_components = 2) \n",
    "X_principal = pca.fit_transform(X_normalized) \n",
    "X_principal = pd.DataFrame(X_principal) \n",
    "X_principal.columns = ['P1', 'P2'] \n",
    "print(X_principal.head()) "
   ]
  },
  {
   "cell_type": "code",
   "execution_count": null,
   "metadata": {},
   "outputs": [],
   "source": []
  }
 ],
 "metadata": {
  "kernelspec": {
   "display_name": "Python 3",
   "language": "python",
   "name": "python3"
  },
  "language_info": {
   "codemirror_mode": {
    "name": "ipython",
    "version": 3
   },
   "file_extension": ".py",
   "mimetype": "text/x-python",
   "name": "python",
   "nbconvert_exporter": "python",
   "pygments_lexer": "ipython3",
   "version": "3.6.9"
  }
 },
 "nbformat": 4,
 "nbformat_minor": 4
}
