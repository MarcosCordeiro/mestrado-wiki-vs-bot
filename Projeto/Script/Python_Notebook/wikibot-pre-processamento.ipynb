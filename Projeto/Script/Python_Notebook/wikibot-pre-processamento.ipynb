{
 "cells": [
  {
   "cell_type": "code",
   "execution_count": null,
   "metadata": {},
   "outputs": [],
   "source": [
    "#!pip install numpy\n",
    "#!pip install --user -U nltk\n",
    "#nltk.download('stopwords')\n",
    "#nltk.download('punkt')\n",
    "#nltk.download('wordnet')\n",
    "#!pip install unidecode\n",
    "#!pip install matplotlib\n",
    "#!pip install pyhive\n",
    "#!pip install seaborn"
   ]
  },
  {
   "cell_type": "code",
   "execution_count": 1,
   "metadata": {},
   "outputs": [],
   "source": [
    "import pandas as pd\n",
    "import nltk\n",
    "import time\n",
    "import datetime\n",
    "import boto3\n",
    "import numpy as np\n",
    "import seaborn as sns\n",
    "import matplotlib.pyplot as plt\n",
    "import warnings\n",
    "from nltk.tokenize import word_tokenize\n",
    "from nltk.corpus import stopwords\n",
    "from string import punctuation\n",
    "from nltk.stem import RSLPStemmer\n",
    "from unidecode import unidecode\n",
    "from pyhive import hive\n",
    "from sklearn import datasets\n",
    "from sklearn.preprocessing import StandardScaler\n",
    "from sklearn.cluster import DBSCAN\n",
    "\n",
    "warnings.filterwarnings(\"ignore\")"
   ]
  },
  {
   "cell_type": "code",
   "execution_count": 2,
   "metadata": {},
   "outputs": [],
   "source": [
    "#Carrega dados refined do Hive\n",
    "#conn = hive.Connection(host=host,port= 10000)\n",
    "#dataframe = pd.read_sql(\"SELECT wiki_id, title, wiki_timestamp, wiki_user, bot FROM defined.wikidata\", conn)"
   ]
  },
  {
   "cell_type": "code",
   "execution_count": 3,
   "metadata": {
    "scrolled": true
   },
   "outputs": [
    {
     "name": "stderr",
     "output_type": "stream",
     "text": [
      "/usr/local/lib/python3.8/dist-packages/IPython/core/interactiveshell.py:3062: DtypeWarning: Columns (6) have mixed types.Specify dtype option on import or set low_memory=False.\n",
      "  has_raised = await self.run_ast_nodes(code_ast.body, cell_name,\n"
     ]
    }
   ],
   "source": [
    "#Carrega dados raw do csv\n",
    "df_full = pd.read_csv(\"../../s3_data/raw/mergedfile_v3.csv\", names=[\"schema\", \"wiki_id\", \"type\", \"namespace\", \"title\", \"comment\", \"timestamp\", \"user\", \"bot\", \"minor\", \"patrolled\", \"server_url\", \"server_name\", \"server_script_path\", \"wiki\", \"parsedcomment\"])"
   ]
  },
  {
   "cell_type": "code",
   "execution_count": 4,
   "metadata": {},
   "outputs": [],
   "source": [
    "df = df_full[[\"wiki_id\", \"title\", \"timestamp\", \"user\",\"bot\"]]"
   ]
  },
  {
   "cell_type": "code",
   "execution_count": 5,
   "metadata": {},
   "outputs": [
    {
     "data": {
      "text/html": [
       "<div>\n",
       "<style scoped>\n",
       "    .dataframe tbody tr th:only-of-type {\n",
       "        vertical-align: middle;\n",
       "    }\n",
       "\n",
       "    .dataframe tbody tr th {\n",
       "        vertical-align: top;\n",
       "    }\n",
       "\n",
       "    .dataframe thead th {\n",
       "        text-align: right;\n",
       "    }\n",
       "</style>\n",
       "<table border=\"1\" class=\"dataframe\">\n",
       "  <thead>\n",
       "    <tr style=\"text-align: right;\">\n",
       "      <th></th>\n",
       "      <th>wiki_id</th>\n",
       "      <th>title</th>\n",
       "      <th>timestamp</th>\n",
       "      <th>user</th>\n",
       "      <th>bot</th>\n",
       "    </tr>\n",
       "  </thead>\n",
       "  <tbody>\n",
       "    <tr>\n",
       "      <th>0</th>\n",
       "      <td>96930022</td>\n",
       "      <td>'Categoria:!Esboços maiores que 1000 bytes'</td>\n",
       "      <td>1587209351</td>\n",
       "      <td>'170.79.220.123'</td>\n",
       "      <td>False</td>\n",
       "    </tr>\n",
       "    <tr>\n",
       "      <th>1</th>\n",
       "      <td>96930023</td>\n",
       "      <td>'Categoria:!Esboços menores que 1001 bytes'</td>\n",
       "      <td>1587209351</td>\n",
       "      <td>'170.79.220.123'</td>\n",
       "      <td>False</td>\n",
       "    </tr>\n",
       "    <tr>\n",
       "      <th>2</th>\n",
       "      <td>96940639</td>\n",
       "      <td>'Categoria:!Páginas com ficheiros inexistentes'</td>\n",
       "      <td>1587241013</td>\n",
       "      <td>'179.124.221.246'</td>\n",
       "      <td>False</td>\n",
       "    </tr>\n",
       "    <tr>\n",
       "      <th>3</th>\n",
       "      <td>96940640</td>\n",
       "      <td>'Categoria:Nascidos em 2000'</td>\n",
       "      <td>1587241013</td>\n",
       "      <td>'179.124.221.246'</td>\n",
       "      <td>False</td>\n",
       "    </tr>\n",
       "    <tr>\n",
       "      <th>4</th>\n",
       "      <td>96940638</td>\n",
       "      <td>'Categoria:Nascidos em 2002'</td>\n",
       "      <td>1587241013</td>\n",
       "      <td>'179.124.221.246'</td>\n",
       "      <td>False</td>\n",
       "    </tr>\n",
       "  </tbody>\n",
       "</table>\n",
       "</div>"
      ],
      "text/plain": [
       "    wiki_id                                             title   timestamp  \\\n",
       "0  96930022       'Categoria:!Esboços maiores que 1000 bytes'  1587209351   \n",
       "1  96930023       'Categoria:!Esboços menores que 1001 bytes'  1587209351   \n",
       "2  96940639   'Categoria:!Páginas com ficheiros inexistentes'  1587241013   \n",
       "3  96940640                      'Categoria:Nascidos em 2000'  1587241013   \n",
       "4  96940638                      'Categoria:Nascidos em 2002'  1587241013   \n",
       "\n",
       "                 user    bot  \n",
       "0    '170.79.220.123'  False  \n",
       "1    '170.79.220.123'  False  \n",
       "2   '179.124.221.246'  False  \n",
       "3   '179.124.221.246'  False  \n",
       "4   '179.124.221.246'  False  "
      ]
     },
     "execution_count": 5,
     "metadata": {},
     "output_type": "execute_result"
    }
   ],
   "source": [
    "df.head()"
   ]
  },
  {
   "cell_type": "markdown",
   "metadata": {},
   "source": [
    "## Parte 1\n",
    "## Pré Processamento"
   ]
  },
  {
   "cell_type": "code",
   "execution_count": 6,
   "metadata": {
    "scrolled": true
   },
   "outputs": [
    {
     "name": "stderr",
     "output_type": "stream",
     "text": [
      "<ipython-input-6-591ba58e7dd9>:2: SettingWithCopyWarning: \n",
      "A value is trying to be set on a copy of a slice from a DataFrame\n",
      "\n",
      "See the caveats in the documentation: https://pandas.pydata.org/pandas-docs/stable/user_guide/indexing.html#returning-a-view-versus-a-copy\n",
      "  df.dropna(inplace=True)\n",
      "<ipython-input-6-591ba58e7dd9>:3: SettingWithCopyWarning: \n",
      "A value is trying to be set on a copy of a slice from a DataFrame.\n",
      "Try using .loc[row_indexer,col_indexer] = value instead\n",
      "\n",
      "See the caveats in the documentation: https://pandas.pydata.org/pandas-docs/stable/user_guide/indexing.html#returning-a-view-versus-a-copy\n",
      "  df[\"user\"] = df[\"user\"].replace({'\\'': ''}, regex=True)\n",
      "<ipython-input-6-591ba58e7dd9>:6: SettingWithCopyWarning: \n",
      "A value is trying to be set on a copy of a slice from a DataFrame.\n",
      "Try using .loc[row_indexer,col_indexer] = value instead\n",
      "\n",
      "See the caveats in the documentation: https://pandas.pydata.org/pandas-docs/stable/user_guide/indexing.html#returning-a-view-versus-a-copy\n",
      "  df[\"user\"] = df[\"user\"].str.strip().replace({'^[0-9]*$': 'unknown'}, regex=True)\n"
     ]
    }
   ],
   "source": [
    "#Remove linhas com dados nulos, transformando em minusculo e removendo aspas simples\n",
    "df.dropna(inplace=True)\n",
    "df[\"user\"] = df[\"user\"].replace({'\\'': ''}, regex=True)\n",
    "lw_text = df[\"title\"].str.lower()\n",
    "lw_text = lw_text.replace({'\\'': ''}, regex=True)\n",
    "df[\"user\"] = df[\"user\"].str.strip().replace({'^[0-9]*$': 'unknown'}, regex=True)"
   ]
  },
  {
   "cell_type": "code",
   "execution_count": 7,
   "metadata": {},
   "outputs": [
    {
     "name": "stderr",
     "output_type": "stream",
     "text": [
      "<ipython-input-7-65143d4881b5>:4: SettingWithCopyWarning: \n",
      "A value is trying to be set on a copy of a slice from a DataFrame.\n",
      "Try using .loc[row_indexer,col_indexer] = value instead\n",
      "\n",
      "See the caveats in the documentation: https://pandas.pydata.org/pandas-docs/stable/user_guide/indexing.html#returning-a-view-versus-a-copy\n",
      "  df[\"timestamp\"] = df[\"timestamp\"].str.strip().replace({'^((?![0-9]).)*$': default_timestamp}, regex=True)\n"
     ]
    }
   ],
   "source": [
    "#Normalizando timestamp\n",
    "s = \"01/01/2020\"\n",
    "default_timestamp = int(datetime.datetime.strptime('01/01/2020', '%d/%m/%Y').strftime(\"%s\"))\n",
    "df[\"timestamp\"] = df[\"timestamp\"].str.strip().replace({'^((?![0-9]).)*$': default_timestamp}, regex=True)"
   ]
  },
  {
   "cell_type": "code",
   "execution_count": 8,
   "metadata": {
    "scrolled": true
   },
   "outputs": [
    {
     "ename": "AttributeError",
     "evalue": "Can only use .str accessor with string values!",
     "output_type": "error",
     "traceback": [
      "\u001b[0;31m---------------------------------------------------------------------------\u001b[0m",
      "\u001b[0;31mAttributeError\u001b[0m                            Traceback (most recent call last)",
      "\u001b[0;32m<ipython-input-8-cadc393a73d6>\u001b[0m in \u001b[0;36m<module>\u001b[0;34m\u001b[0m\n\u001b[1;32m      1\u001b[0m \u001b[0;31m#Substitui valores diferentes de booleano pela item de maior frequencia\u001b[0m\u001b[0;34m\u001b[0m\u001b[0;34m\u001b[0m\u001b[0;34m\u001b[0m\u001b[0m\n\u001b[1;32m      2\u001b[0m \u001b[0mmax_freq\u001b[0m \u001b[0;34m=\u001b[0m \u001b[0mdf\u001b[0m\u001b[0;34m.\u001b[0m\u001b[0mbot\u001b[0m\u001b[0;34m.\u001b[0m\u001b[0mmode\u001b[0m\u001b[0;34m(\u001b[0m\u001b[0;34m)\u001b[0m\u001b[0;34m[\u001b[0m\u001b[0;36m0\u001b[0m\u001b[0;34m]\u001b[0m\u001b[0;34m\u001b[0m\u001b[0;34m\u001b[0m\u001b[0m\n\u001b[0;32m----> 3\u001b[0;31m \u001b[0mdf\u001b[0m\u001b[0;34m[\u001b[0m\u001b[0;34m\"bot\"\u001b[0m\u001b[0;34m]\u001b[0m \u001b[0;34m=\u001b[0m \u001b[0mdf\u001b[0m\u001b[0;34m[\u001b[0m\u001b[0;34m\"bot\"\u001b[0m\u001b[0;34m]\u001b[0m\u001b[0;34m.\u001b[0m\u001b[0mstr\u001b[0m\u001b[0;34m.\u001b[0m\u001b[0mstrip\u001b[0m\u001b[0;34m(\u001b[0m\u001b[0;34m)\u001b[0m\u001b[0;34m.\u001b[0m\u001b[0mreplace\u001b[0m\u001b[0;34m(\u001b[0m\u001b[0;34m{\u001b[0m\u001b[0;34m'^((?!(False|True)).)*$'\u001b[0m\u001b[0;34m:\u001b[0m \u001b[0mmax_freq\u001b[0m\u001b[0;34m.\u001b[0m\u001b[0mstrip\u001b[0m\u001b[0;34m(\u001b[0m\u001b[0;34m)\u001b[0m\u001b[0;34m}\u001b[0m\u001b[0;34m,\u001b[0m \u001b[0mregex\u001b[0m\u001b[0;34m=\u001b[0m\u001b[0;32mTrue\u001b[0m\u001b[0;34m)\u001b[0m\u001b[0;34m\u001b[0m\u001b[0;34m\u001b[0m\u001b[0m\n\u001b[0m",
      "\u001b[0;32m/usr/local/lib/python3.8/dist-packages/pandas/core/generic.py\u001b[0m in \u001b[0;36m__getattr__\u001b[0;34m(self, name)\u001b[0m\n\u001b[1;32m   5268\u001b[0m             \u001b[0;32mor\u001b[0m \u001b[0mname\u001b[0m \u001b[0;32min\u001b[0m \u001b[0mself\u001b[0m\u001b[0;34m.\u001b[0m\u001b[0m_accessors\u001b[0m\u001b[0;34m\u001b[0m\u001b[0;34m\u001b[0m\u001b[0m\n\u001b[1;32m   5269\u001b[0m         ):\n\u001b[0;32m-> 5270\u001b[0;31m             \u001b[0;32mreturn\u001b[0m \u001b[0mobject\u001b[0m\u001b[0;34m.\u001b[0m\u001b[0m__getattribute__\u001b[0m\u001b[0;34m(\u001b[0m\u001b[0mself\u001b[0m\u001b[0;34m,\u001b[0m \u001b[0mname\u001b[0m\u001b[0;34m)\u001b[0m\u001b[0;34m\u001b[0m\u001b[0;34m\u001b[0m\u001b[0m\n\u001b[0m\u001b[1;32m   5271\u001b[0m         \u001b[0;32melse\u001b[0m\u001b[0;34m:\u001b[0m\u001b[0;34m\u001b[0m\u001b[0;34m\u001b[0m\u001b[0m\n\u001b[1;32m   5272\u001b[0m             \u001b[0;32mif\u001b[0m \u001b[0mself\u001b[0m\u001b[0;34m.\u001b[0m\u001b[0m_info_axis\u001b[0m\u001b[0;34m.\u001b[0m\u001b[0m_can_hold_identifiers_and_holds_name\u001b[0m\u001b[0;34m(\u001b[0m\u001b[0mname\u001b[0m\u001b[0;34m)\u001b[0m\u001b[0;34m:\u001b[0m\u001b[0;34m\u001b[0m\u001b[0;34m\u001b[0m\u001b[0m\n",
      "\u001b[0;32m/usr/local/lib/python3.8/dist-packages/pandas/core/accessor.py\u001b[0m in \u001b[0;36m__get__\u001b[0;34m(self, obj, cls)\u001b[0m\n\u001b[1;32m    185\u001b[0m             \u001b[0;31m# we're accessing the attribute of the class, i.e., Dataset.geo\u001b[0m\u001b[0;34m\u001b[0m\u001b[0;34m\u001b[0m\u001b[0;34m\u001b[0m\u001b[0m\n\u001b[1;32m    186\u001b[0m             \u001b[0;32mreturn\u001b[0m \u001b[0mself\u001b[0m\u001b[0;34m.\u001b[0m\u001b[0m_accessor\u001b[0m\u001b[0;34m\u001b[0m\u001b[0;34m\u001b[0m\u001b[0m\n\u001b[0;32m--> 187\u001b[0;31m         \u001b[0maccessor_obj\u001b[0m \u001b[0;34m=\u001b[0m \u001b[0mself\u001b[0m\u001b[0;34m.\u001b[0m\u001b[0m_accessor\u001b[0m\u001b[0;34m(\u001b[0m\u001b[0mobj\u001b[0m\u001b[0;34m)\u001b[0m\u001b[0;34m\u001b[0m\u001b[0;34m\u001b[0m\u001b[0m\n\u001b[0m\u001b[1;32m    188\u001b[0m         \u001b[0;31m# Replace the property with the accessor object. Inspired by:\u001b[0m\u001b[0;34m\u001b[0m\u001b[0;34m\u001b[0m\u001b[0;34m\u001b[0m\u001b[0m\n\u001b[1;32m    189\u001b[0m         \u001b[0;31m# http://www.pydanny.com/cached-property.html\u001b[0m\u001b[0;34m\u001b[0m\u001b[0;34m\u001b[0m\u001b[0;34m\u001b[0m\u001b[0m\n",
      "\u001b[0;32m/usr/local/lib/python3.8/dist-packages/pandas/core/strings.py\u001b[0m in \u001b[0;36m__init__\u001b[0;34m(self, data)\u001b[0m\n\u001b[1;32m   2039\u001b[0m \u001b[0;34m\u001b[0m\u001b[0m\n\u001b[1;32m   2040\u001b[0m     \u001b[0;32mdef\u001b[0m \u001b[0m__init__\u001b[0m\u001b[0;34m(\u001b[0m\u001b[0mself\u001b[0m\u001b[0;34m,\u001b[0m \u001b[0mdata\u001b[0m\u001b[0;34m)\u001b[0m\u001b[0;34m:\u001b[0m\u001b[0;34m\u001b[0m\u001b[0;34m\u001b[0m\u001b[0m\n\u001b[0;32m-> 2041\u001b[0;31m         \u001b[0mself\u001b[0m\u001b[0;34m.\u001b[0m\u001b[0m_inferred_dtype\u001b[0m \u001b[0;34m=\u001b[0m \u001b[0mself\u001b[0m\u001b[0;34m.\u001b[0m\u001b[0m_validate\u001b[0m\u001b[0;34m(\u001b[0m\u001b[0mdata\u001b[0m\u001b[0;34m)\u001b[0m\u001b[0;34m\u001b[0m\u001b[0;34m\u001b[0m\u001b[0m\n\u001b[0m\u001b[1;32m   2042\u001b[0m         \u001b[0mself\u001b[0m\u001b[0;34m.\u001b[0m\u001b[0m_is_categorical\u001b[0m \u001b[0;34m=\u001b[0m \u001b[0mis_categorical_dtype\u001b[0m\u001b[0;34m(\u001b[0m\u001b[0mdata\u001b[0m\u001b[0;34m)\u001b[0m\u001b[0;34m\u001b[0m\u001b[0;34m\u001b[0m\u001b[0m\n\u001b[1;32m   2043\u001b[0m         \u001b[0mself\u001b[0m\u001b[0;34m.\u001b[0m\u001b[0m_is_string\u001b[0m \u001b[0;34m=\u001b[0m \u001b[0mdata\u001b[0m\u001b[0;34m.\u001b[0m\u001b[0mdtype\u001b[0m\u001b[0;34m.\u001b[0m\u001b[0mname\u001b[0m \u001b[0;34m==\u001b[0m \u001b[0;34m\"string\"\u001b[0m\u001b[0;34m\u001b[0m\u001b[0;34m\u001b[0m\u001b[0m\n",
      "\u001b[0;32m/usr/local/lib/python3.8/dist-packages/pandas/core/strings.py\u001b[0m in \u001b[0;36m_validate\u001b[0;34m(data)\u001b[0m\n\u001b[1;32m   2096\u001b[0m \u001b[0;34m\u001b[0m\u001b[0m\n\u001b[1;32m   2097\u001b[0m         \u001b[0;32mif\u001b[0m \u001b[0minferred_dtype\u001b[0m \u001b[0;32mnot\u001b[0m \u001b[0;32min\u001b[0m \u001b[0mallowed_types\u001b[0m\u001b[0;34m:\u001b[0m\u001b[0;34m\u001b[0m\u001b[0;34m\u001b[0m\u001b[0m\n\u001b[0;32m-> 2098\u001b[0;31m             \u001b[0;32mraise\u001b[0m \u001b[0mAttributeError\u001b[0m\u001b[0;34m(\u001b[0m\u001b[0;34m\"Can only use .str accessor with string values!\"\u001b[0m\u001b[0;34m)\u001b[0m\u001b[0;34m\u001b[0m\u001b[0;34m\u001b[0m\u001b[0m\n\u001b[0m\u001b[1;32m   2099\u001b[0m         \u001b[0;32mreturn\u001b[0m \u001b[0minferred_dtype\u001b[0m\u001b[0;34m\u001b[0m\u001b[0;34m\u001b[0m\u001b[0m\n\u001b[1;32m   2100\u001b[0m \u001b[0;34m\u001b[0m\u001b[0m\n",
      "\u001b[0;31mAttributeError\u001b[0m: Can only use .str accessor with string values!"
     ]
    }
   ],
   "source": [
    "#Substitui valores diferentes de booleano pela item de maior frequencia\n",
    "max_freq = df.bot.mode()[0]\n",
    "df[\"bot\"] = df[\"bot\"].str.strip().replace({'^((?!(False|True)).)*$': max_freq.strip()}, regex=True)"
   ]
  },
  {
   "cell_type": "code",
   "execution_count": 9,
   "metadata": {},
   "outputs": [],
   "source": [
    "#Cria os tokens dos titulos\n",
    "tokens =  lw_text.apply(word_tokenize)"
   ]
  },
  {
   "cell_type": "code",
   "execution_count": 10,
   "metadata": {},
   "outputs": [],
   "source": [
    "#Normalizando com unicode\n",
    "tokens_uni = tokens.apply(lambda x: [unidecode(z) for z in x ])"
   ]
  },
  {
   "cell_type": "code",
   "execution_count": 11,
   "metadata": {},
   "outputs": [],
   "source": [
    "#Remove stopwords\n",
    "stopwords = nltk.corpus.stopwords.words('portuguese')\n",
    "stopwords.extend(['categoria','artigos', 'predefinicao','ficheiro','sobre','predefinicoes','redirecionamentos','esbocos','ligados','elemento','inexistentes','ficheiros','usuario','wikidata','paginas','wikipedia','discussao','lista'])\n",
    "stopwords = set(stopwords + list(punctuation))\n",
    "title_cleaned = tokens_uni.apply(lambda line:  [w for w in line if not w in stopwords])"
   ]
  },
  {
   "cell_type": "code",
   "execution_count": 12,
   "metadata": {},
   "outputs": [
    {
     "name": "stderr",
     "output_type": "stream",
     "text": [
      "<ipython-input-12-45cc9113a9d9>:2: SettingWithCopyWarning: \n",
      "A value is trying to be set on a copy of a slice from a DataFrame.\n",
      "Try using .loc[row_indexer,col_indexer] = value instead\n",
      "\n",
      "See the caveats in the documentation: https://pandas.pydata.org/pandas-docs/stable/user_guide/indexing.html#returning-a-view-versus-a-copy\n",
      "  df[\"title_cleaned\"] = title_cleaned.apply(lambda line: \" \".join(line))\n",
      "/usr/local/lib/python3.8/dist-packages/pandas/core/frame.py:4166: SettingWithCopyWarning: \n",
      "A value is trying to be set on a copy of a slice from a DataFrame\n",
      "\n",
      "See the caveats in the documentation: https://pandas.pydata.org/pandas-docs/stable/user_guide/indexing.html#returning-a-view-versus-a-copy\n",
      "  return super().replace(\n",
      "<ipython-input-12-45cc9113a9d9>:4: SettingWithCopyWarning: \n",
      "A value is trying to be set on a copy of a slice from a DataFrame\n",
      "\n",
      "See the caveats in the documentation: https://pandas.pydata.org/pandas-docs/stable/user_guide/indexing.html#returning-a-view-versus-a-copy\n",
      "  df.dropna(inplace=True)\n"
     ]
    },
    {
     "data": {
      "text/html": [
       "<div>\n",
       "<style scoped>\n",
       "    .dataframe tbody tr th:only-of-type {\n",
       "        vertical-align: middle;\n",
       "    }\n",
       "\n",
       "    .dataframe tbody tr th {\n",
       "        vertical-align: top;\n",
       "    }\n",
       "\n",
       "    .dataframe thead th {\n",
       "        text-align: right;\n",
       "    }\n",
       "</style>\n",
       "<table border=\"1\" class=\"dataframe\">\n",
       "  <thead>\n",
       "    <tr style=\"text-align: right;\">\n",
       "      <th></th>\n",
       "      <th>wiki_id</th>\n",
       "      <th>title</th>\n",
       "      <th>timestamp</th>\n",
       "      <th>user</th>\n",
       "      <th>bot</th>\n",
       "      <th>title_cleaned</th>\n",
       "    </tr>\n",
       "  </thead>\n",
       "  <tbody>\n",
       "    <tr>\n",
       "      <th>131072</th>\n",
       "      <td>97475656</td>\n",
       "      <td>Faxinildo</td>\n",
       "      <td>1589310939</td>\n",
       "      <td>Fã dos sites</td>\n",
       "      <td>False</td>\n",
       "      <td>faxinildo</td>\n",
       "    </tr>\n",
       "    <tr>\n",
       "      <th>131073</th>\n",
       "      <td>97475664</td>\n",
       "      <td>Rumours</td>\n",
       "      <td>1589310945</td>\n",
       "      <td>Leandro Drudo</td>\n",
       "      <td>False</td>\n",
       "      <td>rumours</td>\n",
       "    </tr>\n",
       "    <tr>\n",
       "      <th>131074</th>\n",
       "      <td>97475665</td>\n",
       "      <td>Petrix Barbosa</td>\n",
       "      <td>1589310945</td>\n",
       "      <td>79a</td>\n",
       "      <td>False</td>\n",
       "      <td>petrix barbosa</td>\n",
       "    </tr>\n",
       "    <tr>\n",
       "      <th>131075</th>\n",
       "      <td>97475666</td>\n",
       "      <td>Usuário(a) Discussão:Alexromeu</td>\n",
       "      <td>1589310955</td>\n",
       "      <td>79a</td>\n",
       "      <td>False</td>\n",
       "      <td>alexromeu</td>\n",
       "    </tr>\n",
       "    <tr>\n",
       "      <th>131076</th>\n",
       "      <td>97475667</td>\n",
       "      <td>Usuário(a):The WWE man</td>\n",
       "      <td>1589310962</td>\n",
       "      <td>The WWE man</td>\n",
       "      <td>False</td>\n",
       "      <td>the wwe man</td>\n",
       "    </tr>\n",
       "  </tbody>\n",
       "</table>\n",
       "</div>"
      ],
      "text/plain": [
       "         wiki_id                           title   timestamp           user  \\\n",
       "131072  97475656                       Faxinildo  1589310939   Fã dos sites   \n",
       "131073  97475664                         Rumours  1589310945  Leandro Drudo   \n",
       "131074  97475665                  Petrix Barbosa  1589310945            79a   \n",
       "131075  97475666  Usuário(a) Discussão:Alexromeu  1589310955            79a   \n",
       "131076  97475667          Usuário(a):The WWE man  1589310962    The WWE man   \n",
       "\n",
       "          bot   title_cleaned  \n",
       "131072  False       faxinildo  \n",
       "131073  False         rumours  \n",
       "131074  False  petrix barbosa  \n",
       "131075  False       alexromeu  \n",
       "131076  False     the wwe man  "
      ]
     },
     "execution_count": 12,
     "metadata": {},
     "output_type": "execute_result"
    }
   ],
   "source": [
    "#Cria coluna com os titulos tratados\n",
    "df[\"title_cleaned\"] = title_cleaned.apply(lambda line: \" \".join(line))\n",
    "df.replace(\"\", np.nan, inplace=True)\n",
    "df.dropna(inplace=True)\n",
    "df.head()"
   ]
  },
  {
   "cell_type": "code",
   "execution_count": 13,
   "metadata": {
    "scrolled": true
   },
   "outputs": [
    {
     "name": "stderr",
     "output_type": "stream",
     "text": [
      "<ipython-input-13-b3587fceacc2>:10: SettingWithCopyWarning: \n",
      "A value is trying to be set on a copy of a slice from a DataFrame.\n",
      "Try using .loc[row_indexer,col_indexer] = value instead\n",
      "\n",
      "See the caveats in the documentation: https://pandas.pydata.org/pandas-docs/stable/user_guide/indexing.html#returning-a-view-versus-a-copy\n",
      "  df[\"title_stemmed\"] = stemmed_list.apply(lambda line: \" \".join(line))\n"
     ]
    },
    {
     "data": {
      "text/html": [
       "<div>\n",
       "<style scoped>\n",
       "    .dataframe tbody tr th:only-of-type {\n",
       "        vertical-align: middle;\n",
       "    }\n",
       "\n",
       "    .dataframe tbody tr th {\n",
       "        vertical-align: top;\n",
       "    }\n",
       "\n",
       "    .dataframe thead th {\n",
       "        text-align: right;\n",
       "    }\n",
       "</style>\n",
       "<table border=\"1\" class=\"dataframe\">\n",
       "  <thead>\n",
       "    <tr style=\"text-align: right;\">\n",
       "      <th></th>\n",
       "      <th>wiki_id</th>\n",
       "      <th>title</th>\n",
       "      <th>timestamp</th>\n",
       "      <th>user</th>\n",
       "      <th>bot</th>\n",
       "      <th>title_cleaned</th>\n",
       "      <th>title_stemmed</th>\n",
       "    </tr>\n",
       "  </thead>\n",
       "  <tbody>\n",
       "    <tr>\n",
       "      <th>131072</th>\n",
       "      <td>97475656</td>\n",
       "      <td>Faxinildo</td>\n",
       "      <td>1589310939</td>\n",
       "      <td>Fã dos sites</td>\n",
       "      <td>False</td>\n",
       "      <td>faxinildo</td>\n",
       "      <td>faxinild</td>\n",
       "    </tr>\n",
       "    <tr>\n",
       "      <th>131073</th>\n",
       "      <td>97475664</td>\n",
       "      <td>Rumours</td>\n",
       "      <td>1589310945</td>\n",
       "      <td>Leandro Drudo</td>\n",
       "      <td>False</td>\n",
       "      <td>rumours</td>\n",
       "      <td>rumour</td>\n",
       "    </tr>\n",
       "    <tr>\n",
       "      <th>131074</th>\n",
       "      <td>97475665</td>\n",
       "      <td>Petrix Barbosa</td>\n",
       "      <td>1589310945</td>\n",
       "      <td>79a</td>\n",
       "      <td>False</td>\n",
       "      <td>petrix barbosa</td>\n",
       "      <td>petrix barb</td>\n",
       "    </tr>\n",
       "    <tr>\n",
       "      <th>131075</th>\n",
       "      <td>97475666</td>\n",
       "      <td>Usuário(a) Discussão:Alexromeu</td>\n",
       "      <td>1589310955</td>\n",
       "      <td>79a</td>\n",
       "      <td>False</td>\n",
       "      <td>alexromeu</td>\n",
       "      <td>alexrom</td>\n",
       "    </tr>\n",
       "    <tr>\n",
       "      <th>131076</th>\n",
       "      <td>97475667</td>\n",
       "      <td>Usuário(a):The WWE man</td>\n",
       "      <td>1589310962</td>\n",
       "      <td>The WWE man</td>\n",
       "      <td>False</td>\n",
       "      <td>the wwe man</td>\n",
       "      <td>the wwe man</td>\n",
       "    </tr>\n",
       "  </tbody>\n",
       "</table>\n",
       "</div>"
      ],
      "text/plain": [
       "         wiki_id                           title   timestamp           user  \\\n",
       "131072  97475656                       Faxinildo  1589310939   Fã dos sites   \n",
       "131073  97475664                         Rumours  1589310945  Leandro Drudo   \n",
       "131074  97475665                  Petrix Barbosa  1589310945            79a   \n",
       "131075  97475666  Usuário(a) Discussão:Alexromeu  1589310955            79a   \n",
       "131076  97475667          Usuário(a):The WWE man  1589310962    The WWE man   \n",
       "\n",
       "          bot   title_cleaned title_stemmed  \n",
       "131072  False       faxinildo      faxinild  \n",
       "131073  False         rumours        rumour  \n",
       "131074  False  petrix barbosa   petrix barb  \n",
       "131075  False       alexromeu       alexrom  \n",
       "131076  False     the wwe man   the wwe man  "
      ]
     },
     "execution_count": 13,
     "metadata": {},
     "output_type": "execute_result"
    }
   ],
   "source": [
    "#Cria coluna com os titulos com steamming\n",
    "def Stemming(sentence):\n",
    "    stemmer = RSLPStemmer()\n",
    "    phrase = []\n",
    "    for word in sentence:\n",
    "        phrase.append(stemmer.stem(word.lower()))\n",
    "    return phrase\n",
    "\n",
    "stemmed_list = title_cleaned.apply(lambda line: Stemming(line))\n",
    "df[\"title_stemmed\"] = stemmed_list.apply(lambda line: \" \".join(line))\n",
    "df.head()"
   ]
  },
  {
   "cell_type": "code",
   "execution_count": 15,
   "metadata": {},
   "outputs": [
    {
     "name": "stderr",
     "output_type": "stream",
     "text": [
      "<ipython-input-15-3f06dca6a78d>:11: SettingWithCopyWarning: \n",
      "A value is trying to be set on a copy of a slice from a DataFrame.\n",
      "Try using .loc[row_indexer,col_indexer] = value instead\n",
      "\n",
      "See the caveats in the documentation: https://pandas.pydata.org/pandas-docs/stable/user_guide/indexing.html#returning-a-view-versus-a-copy\n",
      "  df[\"title_lemmatized\"] = lemmatized_list.apply(lambda line: \" \".join(line))\n"
     ]
    },
    {
     "data": {
      "text/html": [
       "<div>\n",
       "<style scoped>\n",
       "    .dataframe tbody tr th:only-of-type {\n",
       "        vertical-align: middle;\n",
       "    }\n",
       "\n",
       "    .dataframe tbody tr th {\n",
       "        vertical-align: top;\n",
       "    }\n",
       "\n",
       "    .dataframe thead th {\n",
       "        text-align: right;\n",
       "    }\n",
       "</style>\n",
       "<table border=\"1\" class=\"dataframe\">\n",
       "  <thead>\n",
       "    <tr style=\"text-align: right;\">\n",
       "      <th></th>\n",
       "      <th>wiki_id</th>\n",
       "      <th>title</th>\n",
       "      <th>timestamp</th>\n",
       "      <th>user</th>\n",
       "      <th>bot</th>\n",
       "      <th>title_cleaned</th>\n",
       "      <th>title_stemmed</th>\n",
       "      <th>title_lemmatized</th>\n",
       "    </tr>\n",
       "  </thead>\n",
       "  <tbody>\n",
       "    <tr>\n",
       "      <th>131072</th>\n",
       "      <td>97475656</td>\n",
       "      <td>Faxinildo</td>\n",
       "      <td>1589310939</td>\n",
       "      <td>Fã dos sites</td>\n",
       "      <td>False</td>\n",
       "      <td>faxinildo</td>\n",
       "      <td>faxinild</td>\n",
       "      <td>faxinildo</td>\n",
       "    </tr>\n",
       "    <tr>\n",
       "      <th>131073</th>\n",
       "      <td>97475664</td>\n",
       "      <td>Rumours</td>\n",
       "      <td>1589310945</td>\n",
       "      <td>Leandro Drudo</td>\n",
       "      <td>False</td>\n",
       "      <td>rumours</td>\n",
       "      <td>rumour</td>\n",
       "      <td>rumour</td>\n",
       "    </tr>\n",
       "    <tr>\n",
       "      <th>131074</th>\n",
       "      <td>97475665</td>\n",
       "      <td>Petrix Barbosa</td>\n",
       "      <td>1589310945</td>\n",
       "      <td>79a</td>\n",
       "      <td>False</td>\n",
       "      <td>petrix barbosa</td>\n",
       "      <td>petrix barb</td>\n",
       "      <td>petrix barbosa</td>\n",
       "    </tr>\n",
       "    <tr>\n",
       "      <th>131075</th>\n",
       "      <td>97475666</td>\n",
       "      <td>Usuário(a) Discussão:Alexromeu</td>\n",
       "      <td>1589310955</td>\n",
       "      <td>79a</td>\n",
       "      <td>False</td>\n",
       "      <td>alexromeu</td>\n",
       "      <td>alexrom</td>\n",
       "      <td>alexromeu</td>\n",
       "    </tr>\n",
       "    <tr>\n",
       "      <th>131076</th>\n",
       "      <td>97475667</td>\n",
       "      <td>Usuário(a):The WWE man</td>\n",
       "      <td>1589310962</td>\n",
       "      <td>The WWE man</td>\n",
       "      <td>False</td>\n",
       "      <td>the wwe man</td>\n",
       "      <td>the wwe man</td>\n",
       "      <td>the wwe man</td>\n",
       "    </tr>\n",
       "  </tbody>\n",
       "</table>\n",
       "</div>"
      ],
      "text/plain": [
       "         wiki_id                           title   timestamp           user  \\\n",
       "131072  97475656                       Faxinildo  1589310939   Fã dos sites   \n",
       "131073  97475664                         Rumours  1589310945  Leandro Drudo   \n",
       "131074  97475665                  Petrix Barbosa  1589310945            79a   \n",
       "131075  97475666  Usuário(a) Discussão:Alexromeu  1589310955            79a   \n",
       "131076  97475667          Usuário(a):The WWE man  1589310962    The WWE man   \n",
       "\n",
       "          bot   title_cleaned title_stemmed title_lemmatized  \n",
       "131072  False       faxinildo      faxinild        faxinildo  \n",
       "131073  False         rumours        rumour           rumour  \n",
       "131074  False  petrix barbosa   petrix barb   petrix barbosa  \n",
       "131075  False       alexromeu       alexrom        alexromeu  \n",
       "131076  False     the wwe man   the wwe man      the wwe man  "
      ]
     },
     "execution_count": 15,
     "metadata": {},
     "output_type": "execute_result"
    }
   ],
   "source": [
    "#Cria coluna com os titulos com steamming\n",
    "from nltk.stem import WordNetLemmatizer\n",
    "def Lemmatizing(sentence):\n",
    "    lemmatizer = WordNetLemmatizer()\n",
    "    phrase = []\n",
    "    for word in sentence:\n",
    "        phrase.append(lemmatizer.lemmatize(word.lower()))\n",
    "    return phrase\n",
    "\n",
    "lemmatized_list = title_cleaned.apply(lambda line: Lemmatizing(line))\n",
    "df[\"title_lemmatized\"] = lemmatized_list.apply(lambda line: \" \".join(line))\n",
    "df.head()"
   ]
  }
 ],
 "metadata": {
  "kernelspec": {
   "display_name": "Python 3",
   "language": "python",
   "name": "python3"
  },
  "language_info": {
   "codemirror_mode": {
    "name": "ipython",
    "version": 3
   },
   "file_extension": ".py",
   "mimetype": "text/x-python",
   "name": "python",
   "nbconvert_exporter": "python",
   "pygments_lexer": "ipython3",
   "version": "3.8.2"
  }
 },
 "nbformat": 4,
 "nbformat_minor": 4
}
