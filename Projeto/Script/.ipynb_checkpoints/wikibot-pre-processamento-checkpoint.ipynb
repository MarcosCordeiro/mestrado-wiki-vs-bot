{
 "cells": [
  {
   "cell_type": "code",
   "execution_count": null,
   "metadata": {},
   "outputs": [],
   "source": [
    "#!pip install numpy\n",
    "#!pip install --user -U nltk\n",
    "#nltk.download('stopwords')\n",
    "nltk.download('punkt')\n",
    "#!pip install unidecode\n",
    "#!pip install matplotlib\n",
    "#!pip install pyhive"
   ]
  },
  {
   "cell_type": "code",
   "execution_count": 1,
   "metadata": {},
   "outputs": [],
   "source": [
    "import pandas as pd\n",
    "import nltk\n",
    "import time\n",
    "import datetime\n",
    "import boto3\n",
    "import numpy as np\n",
    "from nltk.tokenize import word_tokenize\n",
    "from nltk.corpus import stopwords\n",
    "from string import punctuation\n",
    "from nltk.stem import RSLPStemmer\n",
    "from unidecode import unidecode\n",
    "from pyhive import hive"
   ]
  },
  {
   "cell_type": "code",
   "execution_count": null,
   "metadata": {},
   "outputs": [],
   "source": [
    "#Carrega dados refined do Hive\n",
    "#df = pd.read_csv(\"../s3_data/refined/refined.csv\", names=[\"wiki_id\", \"title\", \"timestamp\", \"user\",\"bot\"])\n",
    "\n",
    "conn = hive.Connection(host=host,port= 10000)\n",
    "dataframe = pd.read_sql(\"SELECT wiki_id, title, wiki_timestamp, wiki_user, bot FROM defined.wikidata\", conn)"
   ]
  },
  {
   "cell_type": "code",
   "execution_count": 2,
   "metadata": {},
   "outputs": [
    {
     "name": "stderr",
     "output_type": "stream",
     "text": [
      "/usr/local/lib/python3.8/dist-packages/IPython/core/interactiveshell.py:3062: DtypeWarning: Columns (0,1,5) have mixed types.Specify dtype option on import or set low_memory=False.\n",
      "  has_raised = await self.run_ast_nodes(code_ast.body, cell_name,\n"
     ]
    }
   ],
   "source": [
    "df = pd.read_csv(\"defined_new.csv\", names=[\"wiki_id\", \"title\", \"timestamp\", \"user\",\"bot\"])"
   ]
  },
  {
   "cell_type": "markdown",
   "metadata": {},
   "source": [
    "## Parte 1\n",
    "## Pré Processamento"
   ]
  },
  {
   "cell_type": "code",
   "execution_count": 3,
   "metadata": {
    "scrolled": true
   },
   "outputs": [],
   "source": [
    "#Remove linhas com dados nulos, transformando em minusculo e removendo aspas simples\n",
    "df.dropna(inplace=True)\n",
    "df[\"user\"] = df[\"user\"].replace({'\\'': ''}, regex=True)\n",
    "lw_text = df[\"title\"].str.lower()\n",
    "lw_text = lw_text.replace({'\\'': ''}, regex=True)\n",
    "df[\"user\"] = df[\"user\"].str.strip().replace({'^[0-9]*$': 'unknown'}, regex=True)"
   ]
  },
  {
   "cell_type": "code",
   "execution_count": 4,
   "metadata": {},
   "outputs": [],
   "source": [
    "#Normalizando timestamp\n",
    "s = \"01/01/2020\"\n",
    "default_timestamp = int(datetime.datetime.strptime('01/01/2020', '%d/%m/%Y').strftime(\"%s\"))\n",
    "df[\"timestamp\"] = df[\"timestamp\"].str.strip().replace({'^((?![0-9]).)*$': default_timestamp}, regex=True)"
   ]
  },
  {
   "cell_type": "code",
   "execution_count": 5,
   "metadata": {},
   "outputs": [],
   "source": [
    "#Substitui valores diferentes de booleano pela item de maior frequencia\n",
    "max_freq = df.bot.mode()[0]\n",
    "df[\"bot\"] = df[\"bot\"].str.strip().replace({'^((?!(False|True)).)*$': max_freq.strip()}, regex=True)\n",
    "#df[\"bot\"] = df[\"bot\"].astype(bool)"
   ]
  },
  {
   "cell_type": "code",
   "execution_count": 6,
   "metadata": {},
   "outputs": [],
   "source": [
    "#Cria os tokens dos titulos\n",
    "tokens =  lw_text.apply(word_tokenize)"
   ]
  },
  {
   "cell_type": "code",
   "execution_count": 7,
   "metadata": {},
   "outputs": [],
   "source": [
    "#Normalizando com unicode\n",
    "tokens_uni = tokens.apply(lambda x: [unidecode(z) for z in x ])"
   ]
  },
  {
   "cell_type": "code",
   "execution_count": 8,
   "metadata": {},
   "outputs": [],
   "source": [
    "#Remove stopwords\n",
    "stopwords = nltk.corpus.stopwords.words('portuguese')\n",
    "stopwords.extend(['categoria','artigos', 'predefinicao','ficheiro','sobre','predefinicoes','redirecionamentos','esbocos','ligados','elemento','inexistentes','ficheiros','usuario','wikidata','paginas','wikipedia','discussao','lista'])\n",
    "stopwords = set(stopwords + list(punctuation))\n",
    "title_cleaned = tokens_uni.apply(lambda line:  [w for w in line if not w in stopwords])"
   ]
  },
  {
   "cell_type": "code",
   "execution_count": 9,
   "metadata": {},
   "outputs": [
    {
     "data": {
      "text/html": [
       "<div>\n",
       "<style scoped>\n",
       "    .dataframe tbody tr th:only-of-type {\n",
       "        vertical-align: middle;\n",
       "    }\n",
       "\n",
       "    .dataframe tbody tr th {\n",
       "        vertical-align: top;\n",
       "    }\n",
       "\n",
       "    .dataframe thead th {\n",
       "        text-align: right;\n",
       "    }\n",
       "</style>\n",
       "<table border=\"1\" class=\"dataframe\">\n",
       "  <thead>\n",
       "    <tr style=\"text-align: right;\">\n",
       "      <th></th>\n",
       "      <th></th>\n",
       "      <th></th>\n",
       "      <th>wiki_id</th>\n",
       "      <th>title</th>\n",
       "      <th>timestamp</th>\n",
       "      <th>user</th>\n",
       "      <th>bot</th>\n",
       "      <th>title_cleaned</th>\n",
       "    </tr>\n",
       "  </thead>\n",
       "  <tbody>\n",
       "    <tr>\n",
       "      <th>id</th>\n",
       "      <th>wiki_id</th>\n",
       "      <th>title</th>\n",
       "      <td>timestamp</td>\n",
       "      <td>user</td>\n",
       "      <td>1577847600</td>\n",
       "      <td>title_cleaned</td>\n",
       "      <td>eliminaca rap</td>\n",
       "      <td>user</td>\n",
       "    </tr>\n",
       "    <tr>\n",
       "      <th>0</th>\n",
       "      <th>97207565</th>\n",
       "      <th>'Temporada de Fórmula 1 de 2022'</th>\n",
       "      <td>1588375770</td>\n",
       "      <td>SEPRodrigues</td>\n",
       "      <td>1577847600</td>\n",
       "      <td>temporada formula 1 2022</td>\n",
       "      <td>eliminaca rap</td>\n",
       "      <td>seprodrigues</td>\n",
       "    </tr>\n",
       "    <tr>\n",
       "      <th>1</th>\n",
       "      <th>97207568</th>\n",
       "      <th>'Escola Saint-Joseph'</th>\n",
       "      <td>1588375794</td>\n",
       "      <td>Isack7052</td>\n",
       "      <td>1577847600</td>\n",
       "      <td>escola saint-joseph</td>\n",
       "      <td>eliminaca rap</td>\n",
       "      <td>isack7052</td>\n",
       "    </tr>\n",
       "    <tr>\n",
       "      <th>2</th>\n",
       "      <th>97207569</th>\n",
       "      <th>'Categoria:!CS1 francês-fontes em língua (fr)'</th>\n",
       "      <td>1588375794</td>\n",
       "      <td>Isack7052</td>\n",
       "      <td>1577847600</td>\n",
       "      <td>cs1 frances-fontes lingua fr</td>\n",
       "      <td>eliminaca rap</td>\n",
       "      <td>isack7052</td>\n",
       "    </tr>\n",
       "    <tr>\n",
       "      <th>3</th>\n",
       "      <th>97207570</th>\n",
       "      <th>'Categoria:Escolas da França'</th>\n",
       "      <td>1588375794</td>\n",
       "      <td>Isack7052</td>\n",
       "      <td>1577847600</td>\n",
       "      <td>escolas franca</td>\n",
       "      <td>eliminaca rap</td>\n",
       "      <td>isack7052</td>\n",
       "    </tr>\n",
       "  </tbody>\n",
       "</table>\n",
       "</div>"
      ],
      "text/plain": [
       "                                                               wiki_id  \\\n",
       "id wiki_id  title                                            timestamp   \n",
       "0  97207565 'Temporada de Fórmula 1 de 2022'                1588375770   \n",
       "1  97207568 'Escola Saint-Joseph'                           1588375794   \n",
       "2  97207569 'Categoria:!CS1 francês-fontes em língua (fr)'  1588375794   \n",
       "3  97207570 'Categoria:Escolas da França'                   1588375794   \n",
       "\n",
       "                                                                   title  \\\n",
       "id wiki_id  title                                                   user   \n",
       "0  97207565 'Temporada de Fórmula 1 de 2022'                SEPRodrigues   \n",
       "1  97207568 'Escola Saint-Joseph'                              Isack7052   \n",
       "2  97207569 'Categoria:!CS1 francês-fontes em língua (fr)'     Isack7052   \n",
       "3  97207570 'Categoria:Escolas da França'                      Isack7052   \n",
       "\n",
       "                                                             timestamp  \\\n",
       "id wiki_id  title                                           1577847600   \n",
       "0  97207565 'Temporada de Fórmula 1 de 2022'                1577847600   \n",
       "1  97207568 'Escola Saint-Joseph'                           1577847600   \n",
       "2  97207569 'Categoria:!CS1 francês-fontes em língua (fr)'  1577847600   \n",
       "3  97207570 'Categoria:Escolas da França'                   1577847600   \n",
       "\n",
       "                                                                                    user  \\\n",
       "id wiki_id  title                                                          title_cleaned   \n",
       "0  97207565 'Temporada de Fórmula 1 de 2022'                    temporada formula 1 2022   \n",
       "1  97207568 'Escola Saint-Joseph'                                    escola saint-joseph   \n",
       "2  97207569 'Categoria:!CS1 francês-fontes em língua (fr)'  cs1 frances-fontes lingua fr   \n",
       "3  97207570 'Categoria:Escolas da França'                                 escolas franca   \n",
       "\n",
       "                                                                      bot  \\\n",
       "id wiki_id  title                                           eliminaca rap   \n",
       "0  97207565 'Temporada de Fórmula 1 de 2022'                eliminaca rap   \n",
       "1  97207568 'Escola Saint-Joseph'                           eliminaca rap   \n",
       "2  97207569 'Categoria:!CS1 francês-fontes em língua (fr)'  eliminaca rap   \n",
       "3  97207570 'Categoria:Escolas da França'                   eliminaca rap   \n",
       "\n",
       "                                                           title_cleaned  \n",
       "id wiki_id  title                                                   user  \n",
       "0  97207565 'Temporada de Fórmula 1 de 2022'                seprodrigues  \n",
       "1  97207568 'Escola Saint-Joseph'                              isack7052  \n",
       "2  97207569 'Categoria:!CS1 francês-fontes em língua (fr)'     isack7052  \n",
       "3  97207570 'Categoria:Escolas da França'                      isack7052  "
      ]
     },
     "execution_count": 9,
     "metadata": {},
     "output_type": "execute_result"
    }
   ],
   "source": [
    "#Cria coluna com os titulos tratados\n",
    "df[\"title_cleaned\"] = title_cleaned.apply(lambda line: \" \".join(line))\n",
    "df.replace(\"\", np.nan, inplace=True)\n",
    "df.dropna(inplace=True)\n",
    "df.head()"
   ]
  },
  {
   "cell_type": "code",
   "execution_count": 10,
   "metadata": {
    "scrolled": true
   },
   "outputs": [
    {
     "data": {
      "text/html": [
       "<div>\n",
       "<style scoped>\n",
       "    .dataframe tbody tr th:only-of-type {\n",
       "        vertical-align: middle;\n",
       "    }\n",
       "\n",
       "    .dataframe tbody tr th {\n",
       "        vertical-align: top;\n",
       "    }\n",
       "\n",
       "    .dataframe thead th {\n",
       "        text-align: right;\n",
       "    }\n",
       "</style>\n",
       "<table border=\"1\" class=\"dataframe\">\n",
       "  <thead>\n",
       "    <tr style=\"text-align: right;\">\n",
       "      <th></th>\n",
       "      <th></th>\n",
       "      <th></th>\n",
       "      <th>wiki_id</th>\n",
       "      <th>title</th>\n",
       "      <th>timestamp</th>\n",
       "      <th>user</th>\n",
       "      <th>bot</th>\n",
       "      <th>title_cleaned</th>\n",
       "      <th>title_stemmed</th>\n",
       "    </tr>\n",
       "  </thead>\n",
       "  <tbody>\n",
       "    <tr>\n",
       "      <th>id</th>\n",
       "      <th>wiki_id</th>\n",
       "      <th>title</th>\n",
       "      <td>timestamp</td>\n",
       "      <td>user</td>\n",
       "      <td>1577847600</td>\n",
       "      <td>title_cleaned</td>\n",
       "      <td>eliminaca rap</td>\n",
       "      <td>user</td>\n",
       "      <td>us</td>\n",
       "    </tr>\n",
       "    <tr>\n",
       "      <th>0</th>\n",
       "      <th>97207565</th>\n",
       "      <th>'Temporada de Fórmula 1 de 2022'</th>\n",
       "      <td>1588375770</td>\n",
       "      <td>SEPRodrigues</td>\n",
       "      <td>1577847600</td>\n",
       "      <td>temporada formula 1 2022</td>\n",
       "      <td>eliminaca rap</td>\n",
       "      <td>seprodrigues</td>\n",
       "      <td>seprodrig</td>\n",
       "    </tr>\n",
       "    <tr>\n",
       "      <th>1</th>\n",
       "      <th>97207568</th>\n",
       "      <th>'Escola Saint-Joseph'</th>\n",
       "      <td>1588375794</td>\n",
       "      <td>Isack7052</td>\n",
       "      <td>1577847600</td>\n",
       "      <td>escola saint-joseph</td>\n",
       "      <td>eliminaca rap</td>\n",
       "      <td>isack7052</td>\n",
       "      <td>isack7052</td>\n",
       "    </tr>\n",
       "    <tr>\n",
       "      <th>2</th>\n",
       "      <th>97207569</th>\n",
       "      <th>'Categoria:!CS1 francês-fontes em língua (fr)'</th>\n",
       "      <td>1588375794</td>\n",
       "      <td>Isack7052</td>\n",
       "      <td>1577847600</td>\n",
       "      <td>cs1 frances-fontes lingua fr</td>\n",
       "      <td>eliminaca rap</td>\n",
       "      <td>isack7052</td>\n",
       "      <td>isack7052</td>\n",
       "    </tr>\n",
       "    <tr>\n",
       "      <th>3</th>\n",
       "      <th>97207570</th>\n",
       "      <th>'Categoria:Escolas da França'</th>\n",
       "      <td>1588375794</td>\n",
       "      <td>Isack7052</td>\n",
       "      <td>1577847600</td>\n",
       "      <td>escolas franca</td>\n",
       "      <td>eliminaca rap</td>\n",
       "      <td>isack7052</td>\n",
       "      <td>isack7052</td>\n",
       "    </tr>\n",
       "  </tbody>\n",
       "</table>\n",
       "</div>"
      ],
      "text/plain": [
       "                                                               wiki_id  \\\n",
       "id wiki_id  title                                            timestamp   \n",
       "0  97207565 'Temporada de Fórmula 1 de 2022'                1588375770   \n",
       "1  97207568 'Escola Saint-Joseph'                           1588375794   \n",
       "2  97207569 'Categoria:!CS1 francês-fontes em língua (fr)'  1588375794   \n",
       "3  97207570 'Categoria:Escolas da França'                   1588375794   \n",
       "\n",
       "                                                                   title  \\\n",
       "id wiki_id  title                                                   user   \n",
       "0  97207565 'Temporada de Fórmula 1 de 2022'                SEPRodrigues   \n",
       "1  97207568 'Escola Saint-Joseph'                              Isack7052   \n",
       "2  97207569 'Categoria:!CS1 francês-fontes em língua (fr)'     Isack7052   \n",
       "3  97207570 'Categoria:Escolas da França'                      Isack7052   \n",
       "\n",
       "                                                             timestamp  \\\n",
       "id wiki_id  title                                           1577847600   \n",
       "0  97207565 'Temporada de Fórmula 1 de 2022'                1577847600   \n",
       "1  97207568 'Escola Saint-Joseph'                           1577847600   \n",
       "2  97207569 'Categoria:!CS1 francês-fontes em língua (fr)'  1577847600   \n",
       "3  97207570 'Categoria:Escolas da França'                   1577847600   \n",
       "\n",
       "                                                                                    user  \\\n",
       "id wiki_id  title                                                          title_cleaned   \n",
       "0  97207565 'Temporada de Fórmula 1 de 2022'                    temporada formula 1 2022   \n",
       "1  97207568 'Escola Saint-Joseph'                                    escola saint-joseph   \n",
       "2  97207569 'Categoria:!CS1 francês-fontes em língua (fr)'  cs1 frances-fontes lingua fr   \n",
       "3  97207570 'Categoria:Escolas da França'                                 escolas franca   \n",
       "\n",
       "                                                                      bot  \\\n",
       "id wiki_id  title                                           eliminaca rap   \n",
       "0  97207565 'Temporada de Fórmula 1 de 2022'                eliminaca rap   \n",
       "1  97207568 'Escola Saint-Joseph'                           eliminaca rap   \n",
       "2  97207569 'Categoria:!CS1 francês-fontes em língua (fr)'  eliminaca rap   \n",
       "3  97207570 'Categoria:Escolas da França'                   eliminaca rap   \n",
       "\n",
       "                                                           title_cleaned  \\\n",
       "id wiki_id  title                                                   user   \n",
       "0  97207565 'Temporada de Fórmula 1 de 2022'                seprodrigues   \n",
       "1  97207568 'Escola Saint-Joseph'                              isack7052   \n",
       "2  97207569 'Categoria:!CS1 francês-fontes em língua (fr)'     isack7052   \n",
       "3  97207570 'Categoria:Escolas da França'                      isack7052   \n",
       "\n",
       "                                                           title_stemmed  \n",
       "id wiki_id  title                                                     us  \n",
       "0  97207565 'Temporada de Fórmula 1 de 2022'                   seprodrig  \n",
       "1  97207568 'Escola Saint-Joseph'                              isack7052  \n",
       "2  97207569 'Categoria:!CS1 francês-fontes em língua (fr)'     isack7052  \n",
       "3  97207570 'Categoria:Escolas da França'                      isack7052  "
      ]
     },
     "execution_count": 10,
     "metadata": {},
     "output_type": "execute_result"
    }
   ],
   "source": [
    "#Cria coluna com os titulos com steamming\n",
    "def Stemming(sentence):\n",
    "    stemmer = RSLPStemmer()\n",
    "    phrase = []\n",
    "    for word in sentence:\n",
    "        phrase.append(stemmer.stem(word.lower()))\n",
    "    return phrase\n",
    "\n",
    "stemmed_list = title_cleaned.apply(lambda line: Stemming(line))\n",
    "df[\"title_stemmed\"] = stemmed_list.apply(lambda line: \" \".join(line))\n",
    "df.head()"
   ]
  },
  {
   "cell_type": "code",
   "execution_count": 13,
   "metadata": {},
   "outputs": [
    {
     "name": "stderr",
     "output_type": "stream",
     "text": [
      "[nltk_data] Downloading package wordnet to /home/marcosc/nltk_data...\n",
      "[nltk_data]   Unzipping corpora/wordnet.zip.\n"
     ]
    },
    {
     "data": {
      "text/plain": [
       "True"
      ]
     },
     "execution_count": 13,
     "metadata": {},
     "output_type": "execute_result"
    }
   ],
   "source": [
    "nltk.download('wordnet')"
   ]
  },
  {
   "cell_type": "code",
   "execution_count": 14,
   "metadata": {},
   "outputs": [
    {
     "data": {
      "text/plain": [
       "id      wiki_id   title                                                                                               [user]\n",
       "0       97207565  'Temporada de Fórmula 1 de 2022'                                                            [seprodrigues]\n",
       "1       97207568  'Escola Saint-Joseph'                                                                          [isack7052]\n",
       "2       97207569  'Categoria:!CS1 francês-fontes em língua (fr)'                                                 [isack7052]\n",
       "3       97207570  'Categoria:Escolas da França'                                                                  [isack7052]\n",
       "                                                                                                    ...                     \n",
       "188058  97128976  'Categoria:Prisões'                                                                            [joseolgon]\n",
       "188059  97128977  'Alexandre Ramagem'                                                                        [jorgelucas260]\n",
       "188060  97128978  'Beijo'                                                                                    [179.35.92.234]\n",
       "188061  97128979  'Maria Teresa (comediante)'                                   [2804:14d:90a4:8038, a08c, a15a, ee82, c802]\n",
       "188062  97128982  'Lista de prêmios e indicações recebidos por Manu Gavassi'              [2804:18:1001:11a2:2:1:29f7, b762]\n",
       "Name: title, Length: 187005, dtype: object"
      ]
     },
     "execution_count": 14,
     "metadata": {},
     "output_type": "execute_result"
    }
   ],
   "source": [
    "#Cria coluna com os titulos com steamming\n",
    "from nltk.stem import WordNetLemmatizer\n",
    "def Lemmatizing(sentence):\n",
    "    lemmatizer = WordNetLemmatizer()\n",
    "    phrase = []\n",
    "    for word in sentence:\n",
    "        phrase.append(lemmatizer.lemmatize(word.lower()))\n",
    "        print(word)\n",
    "    return phrase\n",
    "\n",
    "lemmatized_list = title_cleaned.apply(lambda line: Lemmatizing(line))\n",
    "lemmatized_list\n",
    "#df[\"title_lemmatized\"] = lemmatized_list.apply(lambda line: \" \".join(line))\n",
    "#df.head()"
   ]
  },
  {
   "cell_type": "markdown",
   "metadata": {},
   "source": [
    "## Parte 2"
   ]
  },
  {
   "cell_type": "code",
   "execution_count": null,
   "metadata": {},
   "outputs": [],
   "source": [
    "import pandas as pd\n",
    "import boto3\n",
    "import matplotlib.pyplot as plt\n",
    "from sklearn.feature_extraction.text import TfidfVectorizer\n",
    "from boto3.dynamodb.conditions import Key, Attr\n",
    "from botocore.exceptions import ClientError\n",
    "from collections import Counter\n",
    "from sklearn.cluster import KMeans\n",
    "from sklearn.decomposition import PCA"
   ]
  },
  {
   "cell_type": "code",
   "execution_count": null,
   "metadata": {},
   "outputs": [],
   "source": [
    "title_bot_true = df[df.bot==True]\n",
    "title_bot_false = df[df.bot==False]"
   ]
  },
  {
   "cell_type": "code",
   "execution_count": null,
   "metadata": {},
   "outputs": [],
   "source": [
    "# Vec. transform com bots = true\n",
    "str_list = title_bot_true[\"title_stemmed\"].values\n",
    "vec = TfidfVectorizer()\n",
    "vec.fit(str_list)\n",
    "features_bot_true = vec.transform(str_list)\n",
    "print(features_bot_true)"
   ]
  },
  {
   "cell_type": "code",
   "execution_count": null,
   "metadata": {},
   "outputs": [],
   "source": [
    "# Vec. transform com bots = false\n",
    "str_list = title_bot_false[\"title_stemmed\"].values\n",
    "vec.fit(str_list)\n",
    "features_bot_false = vec.transform(str_list)\n",
    "print(features_bot_false)"
   ]
  },
  {
   "cell_type": "code",
   "execution_count": null,
   "metadata": {},
   "outputs": [],
   "source": [
    "labels = 'Bot','Não Bots'\n",
    "data = [features_bot_true.size, features_bot_false.size]\n",
    "\n",
    "fig1, ax1 = plt.subplots()\n",
    "\n",
    "ax1.pie(data, labels=labels, autopct='%1.1f%%', shadow=True, startangle=90)\n",
    "\n",
    "ax1.axis('equal')\n",
    "ax1.set_title(\"Bot vs Não Bot\")\n",
    "plt.show()"
   ]
  },
  {
   "cell_type": "markdown",
   "metadata": {},
   "source": [
    "## Palavras mais populares"
   ]
  },
  {
   "cell_type": "code",
   "execution_count": null,
   "metadata": {},
   "outputs": [],
   "source": [
    "#bot = true\n",
    "top_N = 10\n",
    "words = title_bot_true[\"title_cleaned\"].str.cat(sep=' ').split()\n",
    "rslt = pd.DataFrame(Counter(words).most_common(top_N), columns=['Word', 'Frequency']).set_index('Word')\n",
    "print(rslt)\n",
    "rslt.plot.bar(rot=0, figsize=(16,10), width=0.8)"
   ]
  },
  {
   "cell_type": "code",
   "execution_count": null,
   "metadata": {},
   "outputs": [],
   "source": [
    "#bot = false\n",
    "top_N = 10\n",
    "words = title_bot_false[\"title_cleaned\"].str.cat(sep=' ').split()\n",
    "rslt = pd.DataFrame(Counter(words).most_common(top_N), columns=['Word', 'Frequency']).set_index('Word')\n",
    "print(rslt)\n",
    "rslt.plot.bar(rot=0, figsize=(16,10), width=0.8)"
   ]
  },
  {
   "cell_type": "markdown",
   "metadata": {},
   "source": [
    "## K-Means bot = false"
   ]
  },
  {
   "cell_type": "code",
   "execution_count": null,
   "metadata": {},
   "outputs": [],
   "source": [
    "Sum_of_squared_distances = []\n",
    "K = range(1,30)\n",
    "for k in K:\n",
    "    km = KMeans(n_clusters=k)\n",
    "    km = km.fit(features_bot_false)\n",
    "    Sum_of_squared_distances.append(km.inertia_)\n"
   ]
  },
  {
   "cell_type": "code",
   "execution_count": null,
   "metadata": {},
   "outputs": [],
   "source": [
    "#Best result cluster = 150\n",
    "plt.plot(K, Sum_of_squared_distances, 'bx-')\n",
    "plt.xlabel('k')\n",
    "plt.ylabel('Sum_of_squared_distances')\n",
    "plt.title('Elbow Method For Optimal k')\n",
    "plt.show()"
   ]
  },
  {
   "cell_type": "code",
   "execution_count": null,
   "metadata": {},
   "outputs": [],
   "source": [
    "fig = plt.figure(figsize=plt.figaspect(0.5))\n",
    "\n",
    "ax = fig.add_subplot(1, 2, 1)\n",
    "\n",
    "#Visualização gráfica 2D     # Converte as features para 2D     \n",
    "pca = PCA(n_components=2, random_state= 0)\n",
    "reduced_features = pca.fit_transform(features_bot_false.toarray())\n",
    "\n",
    "# Converte os centros dos clusters para 2D     \n",
    "reduced_cluster_centers = pca.transform(km.cluster_centers_)\n",
    "\n",
    "#Plota gráfico 2D     \n",
    "ax.scatter(reduced_features[:,0], reduced_features[:,1], c=km.predict(features_bot_false))\n",
    "ax.scatter(reduced_cluster_centers[:, 0], reduced_cluster_centers[:,1], marker='o', s=150, edgecolor='k')\n",
    "\n",
    "#Plota números nos clusters     \n",
    "for i, c in enumerate(reduced_cluster_centers):\n",
    "    ax.scatter(c[0], c[1], marker='$%d$' % i, alpha=1, s=50, edgecolor='k')\n",
    "\n",
    "cluster=5\n",
    "#Adiciona informações no gráfico     \n",
    "plt.title(\"Análise de cluster k = %d\" % cluster)\n",
    "plt.xlabel('Dispersão em X')\n",
    "plt.ylabel('Dispersão em Y')\n",
    "\n",
    "\n",
    "\n",
    "#Visualização gráfica 3D \n",
    "\n",
    "ax = fig.add_subplot(1, 2, 2,projection=\"3d\")\n",
    "\n",
    "# ax = plt.axes(projection=\"3d\") \n",
    "# Adiciona informações no gráfico     \n",
    "plt.title(\"Análise de cluster k = %d\" % cluster)\n",
    "plt.xlabel('Dispersão em X')\n",
    "plt.ylabel('Dispersão em Y')\n",
    "\n",
    "#converte dados para 3D     \n",
    "pca = PCA(n_components=3, random_state=0)\n",
    "reduced_features = pca.fit_transform(features_bot_false.toarray())\n",
    "\n",
    "#Plota dados em 3D     \n",
    "ax.scatter3D(reduced_features[:,0], reduced_features[:,1], reduced_features[:,2], marker='o', s=150, edgecolor='k', c=km.predict(features_bot_false))\n",
    "\n",
    "# Converte os centros dos clusters para 3D     \n",
    "reduced_cluster_centers = pca.transform(km.cluster_centers_)\n",
    "\n",
    "#Salva arquivo de imagem 3D     \n",
    "plt.savefig(\"imagens/grafico_cluster_k=%d\" % cluster)\n",
    "plt.show()"
   ]
  },
  {
   "cell_type": "markdown",
   "metadata": {},
   "source": [
    "## K-means bot = True"
   ]
  },
  {
   "cell_type": "code",
   "execution_count": null,
   "metadata": {},
   "outputs": [],
   "source": [
    "Sum_of_squared_distances = []\n",
    "K = range(1,30)\n",
    "for k in K:\n",
    "    km = KMeans(n_clusters=k)\n",
    "    km = km.fit(features_bot_true)\n",
    "    Sum_of_squared_distances.append(km.inertia_)"
   ]
  },
  {
   "cell_type": "code",
   "execution_count": null,
   "metadata": {},
   "outputs": [],
   "source": [
    "plt.plot(K, Sum_of_squared_distances, 'bx-')\n",
    "plt.xlabel('k')\n",
    "plt.ylabel('Sum_of_squared_distances')\n",
    "plt.title('Elbow Method For Optimal k')\n",
    "plt.show()"
   ]
  },
  {
   "cell_type": "code",
   "execution_count": null,
   "metadata": {},
   "outputs": [],
   "source": [
    "fig = plt.figure(figsize=plt.figaspect(0.5))\n",
    "\n",
    "ax = fig.add_subplot(1, 2, 1)\n",
    "\n",
    "#Visualização gráfica 2D     # Converte as features para 2D     \n",
    "pca = PCA(n_components=2, random_state= 0)\n",
    "reduced_features = pca.fit_transform(features_bot_true.toarray())\n",
    "\n",
    "# Converte os centros dos clusters para 2D     \n",
    "reduced_cluster_centers = pca.transform(km.cluster_centers_)\n",
    "\n",
    "#Plota gráfico 2D     \n",
    "ax.scatter(reduced_features[:,0], reduced_features[:,1], c=km.predict(features_bot_true))\n",
    "ax.scatter(reduced_cluster_centers[:, 0], reduced_cluster_centers[:,1], marker='o', s=150, edgecolor='k')\n",
    "\n",
    "#Plota números nos clusters     \n",
    "for i, c in enumerate(reduced_cluster_centers):\n",
    "    ax.scatter(c[0], c[1], marker='$%d$' % i, alpha=1, s=50, edgecolor='k')\n",
    "\n",
    "cluster=5\n",
    "#Adiciona informações no gráfico     \n",
    "plt.title(\"Análise de cluster k = %d\" % cluster)\n",
    "plt.xlabel('Dispersão em X')\n",
    "plt.ylabel('Dispersão em Y')\n",
    "\n",
    "\n",
    "\n",
    "#Visualização gráfica 3D \n",
    "\n",
    "ax = fig.add_subplot(1, 2, 2,projection=\"3d\")\n",
    "\n",
    "# ax = plt.axes(projection=\"3d\") \n",
    "# Adiciona informações no gráfico     \n",
    "plt.title(\"Análise de cluster k = %d\" % cluster)\n",
    "plt.xlabel('Dispersão em X')\n",
    "plt.ylabel('Dispersão em Y')\n",
    "\n",
    "#converte dados para 3D     \n",
    "pca = PCA(n_components=3, random_state=0)\n",
    "reduced_features = pca.fit_transform(features_bot_true.toarray())\n",
    "\n",
    "#Plota dados em 3D     \n",
    "ax.scatter3D(reduced_features[:,0], reduced_features[:,1], reduced_features[:,2], marker='o', s=150, edgecolor='k', c=km.predict(features_bot_true))\n",
    "\n",
    "# Converte os centros dos clusters para 3D     \n",
    "reduced_cluster_centers = pca.transform(km.cluster_centers_)\n",
    "\n",
    "#Salva arquivo de imagem 3D     \n",
    "plt.savefig(\"imagens/grafico_cluster_k=%d\" % cluster)\n",
    "plt.show()"
   ]
  }
 ],
 "metadata": {
  "kernelspec": {
   "display_name": "Python 3",
   "language": "python",
   "name": "python3"
  },
  "language_info": {
   "codemirror_mode": {
    "name": "ipython",
    "version": 3
   },
   "file_extension": ".py",
   "mimetype": "text/x-python",
   "name": "python",
   "nbconvert_exporter": "python",
   "pygments_lexer": "ipython3",
   "version": "3.8.2"
  }
 },
 "nbformat": 4,
 "nbformat_minor": 4
}
